{
 "cells": [
  {
   "cell_type": "markdown",
   "id": "78cffb23",
   "metadata": {},
   "source": [
    "# Visualization Assignment Analysis\n",
    "\n",
    "This notebook contains the analysis and visualization refinements for the given assignment.\n"
   ]
  },
  {
   "cell_type": "markdown",
   "id": "083a82eb",
   "metadata": {},
   "source": [
    "## Task 1: Ad Campaign Assessment\n",
    "\n",
    "The first task involves assessing the incremental reach per 1,000 impressions for different platforms. The analysis steps include identifying what is working well, assessing effectiveness, determining clutter, and evaluating design choices.\n"
   ]
  },
  {
   "cell_type": "markdown",
   "id": "77841d32",
   "metadata": {},
   "source": [
    "### Analysis of Figure 1:\n",
    "#### What is working well:\n",
    "- The bar chart's incremental reach per 1,000 impressions is clearly displayed for each platform.\n",
    "- The line chart illustrates the reach effectiveness across platforms over time.\n",
    "\n",
    "#### Effectiveness of attention-directing and adjustments:\n",
    "- The red arrows draw attention, but could be made subtler.\n",
    "- Highlighting the 0.5% reach for digital platforms could be beneficial.\n",
    "\n",
    "#### Clutter to remove:\n",
    "- Gridlines on the bar chart could be lightened or removed.\n",
    "- Text in the line chart can be made larger for readability.\n",
    "\n",
    "#### Design choices and changes:\n",
    "- Direct labeling on the charts could improve clarity.\n",
    "- Distinct colors for each line in the line chart could help differentiate between platforms.\n",
    "\n",
    "#### Refining the visual:\n",
    "- Use provided data to update the bar and line charts with the design improvements suggested.\n"
   ]
  },
  {
   "cell_type": "code",
   "execution_count": null,
   "id": "6084588b",
   "metadata": {},
   "outputs": [],
   "source": [
    "# Import necessary libraries\n",
    "import pandas as pd\n",
    "import matplotlib.pyplot as plt\n",
    "import seaborn as sns\n",
    "\n",
    "# Load and preview the data for Problem 1\n",
    "problem_1_data_path = 'Problem_1.xlsx'\n",
    "problem_1_data = pd.read_excel(problem_1_data_path)\n",
    "problem_1_data.head()\n"
   ]
  },
  {
   "cell_type": "code",
   "execution_count": null,
   "id": "77e34cc8",
   "metadata": {},
   "outputs": [],
   "source": [
    "# Set the aesthetic style of the plots\n",
    "sns.set_style(\"whitegrid\")\n",
    "\n",
    "# Create a bar chart for the incremental reach per 1,000 impressions for Week 5\n",
    "plt.figure(figsize=(10, 6))\n",
    "bar_plot = sns.barplot(x=bar_chart_data.index, y=bar_chart_data.values, palette=\"Blues_d\")\n",
    "plt.title('Incremental Reach per 1,000 Impressions for Week 5')\n",
    "plt.xlabel('Platform')\n",
    "plt.ylabel('Incremental Reach per 1,000 Impressions')\n",
    "for index, value in enumerate(bar_chart_data.values):\n",
    "    plt.text(index, value, f'{value:.4f}', ha='center', va='bottom')\n",
    "plt.show()\n"
   ]
  },
  {
   "cell_type": "code",
   "execution_count": null,
   "id": "ea7e1693",
   "metadata": {},
   "outputs": [],
   "source": [
    "# Create a line chart to show the trend of incremental reach per 1,000 impressions over time\n",
    "plt.figure(figsize=(14, 6))\n",
    "for column in line_chart_data.columns:\n",
    "    plt.plot(line_chart_data.index, line_chart_data[column], marker='o', label=column)\n",
    "plt.title('Incremental Reach per 1,000 Impressions Over Time')\n",
    "plt.xlabel('Platform')\n",
    "plt.ylabel('Incremental Reach per 1,000 Impressions')\n",
    "plt.legend(title='Week')\n",
    "plt.xticks(rotation=45)\n",
    "plt.tight_layout()\n",
    "plt.show()\n"
   ]
  },
  {
   "cell_type": "markdown",
   "id": "7af10c8d",
   "metadata": {},
   "source": [
    "## Task 2: Competitive Landscape Analysis\n",
    "\n",
    "The second task is about assessing market share over time for competitors in the on-demand printing industry. This involves recommending design improvements and using data to implement these improvements.\n"
   ]
  },
  {
   "cell_type": "markdown",
   "id": "ee434664",
   "metadata": {},
   "source": [
    "### Analysis of Figure 2:\n",
    "#### Recommend 5 design improvements:\n",
    "1. Simplify the color scheme for clarity.\n",
    "2. Directly label the bars to reduce viewer effort.\n",
    "3. Reorder categories logically for better comparison.\n",
    "4. Reduce clutter by removing unnecessary markers.\n",
    "5. Improve readability with larger text and clearer labels.\n",
    "\n",
    "#### Implementing the improvements:\n",
    "- Update the bar chart using the data provided and apply the design improvements.\n"
   ]
  },
  {
   "cell_type": "code",
   "execution_count": null,
   "id": "5a2c3cef",
   "metadata": {},
   "outputs": [],
   "source": [
    "# Load and preview the data for Problem 2\n",
    "problem_2_data_path = 'Problem_2.xlsx'\n",
    "problem_2_data = pd.read_excel(problem_2_data_path)\n",
    "problem_2_data.head()\n"
   ]
  },
  {
   "cell_type": "code",
   "execution_count": null,
   "id": "23530b6f",
   "metadata": {},
   "outputs": [],
   "source": [
    "# Plot the market share of on-demand printing options from 2016 to 2019\n",
    "plt.figure(figsize=(12, 8))\n",
    "problem_2_data.plot(kind='bar', stacked=False, color=palette, width=0.8)\n",
    "plt.title('Market Share of On-Demand Printing Options (2016-2019)', fontsize=16)\n",
    "plt.xlabel('Option', fontsize=14)\n",
    "plt.ylabel('Market Share', fontsize=14)\n",
    "plt.xticks(rotation=45)\n",
    "plt.legend(title='Year', fontsize=12, title_fontsize=14)\n",
    "plt.legend(title='Year', bbox_to_anchor=(1.05, 1), loc='upper left')\n",
    "plt.tight_layout()\n",
    "plt.show()\n"
   ]
  }
 ],
 "metadata": {},
 "nbformat": 4,
 "nbformat_minor": 5
}
