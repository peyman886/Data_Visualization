{
  "cells": [
    {
      "cell_type": "markdown",
      "source": [
        "# Dataset"
      ],
      "metadata": {
        "id": "Pxcfy-xtARcO"
      },
      "id": "Pxcfy-xtARcO"
    },
    {
      "cell_type": "markdown",
      "source": [
        "Download dataset"
      ],
      "metadata": {
        "id": "A4xpDXJ3-VYd"
      },
      "id": "A4xpDXJ3-VYd"
    },
    {
      "cell_type": "code",
      "source": [
        "import os\n",
        "if not os.path.isfile('dognition_data_aggregated_by_dogid.xlsx'):\n",
        "  ! gdown 1aqPah5aYlkvTiT9MLrOVfC4_NZYBQT0q"
      ],
      "metadata": {
        "id": "ntRezFH2-UT9"
      },
      "id": "ntRezFH2-UT9",
      "execution_count": 10,
      "outputs": []
    },
    {
      "cell_type": "markdown",
      "source": [
        "Load and dispaly dataset"
      ],
      "metadata": {
        "id": "xkUp-5QZAL2b"
      },
      "id": "xkUp-5QZAL2b"
    },
    {
      "cell_type": "code",
      "source": [
        "import pandas as pd\n",
        "\n",
        "# Load the dognition_data_aggregated_by_dogid dataset\n",
        "data_path = 'dognition_data_aggregated_by_dogid.xlsx'\n",
        "dognition_data = pd.read_excel(data_path)\n",
        "\n",
        "# Display the first few rows of the dataset to understand its structure\n",
        "dognition_data.head()\n"
      ],
      "metadata": {
        "id": "emeykubr9_78",
        "outputId": "8bbba285-22b3-4261-98ba-e3326a01d02a",
        "colab": {
          "base_uri": "https://localhost:8080/",
          "height": 0
        }
      },
      "execution_count": 11,
      "outputs": [
        {
          "output_type": "execute_result",
          "data": {
            "text/plain": [
              "                                 Dog ID  Total Tests Completed  \\\n",
              "0  fd27b272-7144-11e5-ba71-058fbc01cf0b                     21   \n",
              "1  fd27b5ba-7144-11e5-ba71-058fbc01cf0b                     20   \n",
              "2  fd27b6b4-7144-11e5-ba71-058fbc01cf0b                      2   \n",
              "3  fd27b79a-7144-11e5-ba71-058fbc01cf0b                     11   \n",
              "4  fd27b86c-7144-11e5-ba71-058fbc01cf0b                     31   \n",
              "\n",
              "   Mean ITI (days)  Mean ITI (minutes)  Median ITI (days)  \\\n",
              "0        28.201076        40609.549167           0.004687   \n",
              "1         0.413307          595.162281           0.005845   \n",
              "2         0.009132           13.150000           0.009132   \n",
              "3        56.115179        80805.858333           0.004433   \n",
              "4         7.734254        11137.326111           0.000399   \n",
              "\n",
              "   Median ITI (minutes)  Time diff between first and last game (days)  \\\n",
              "0              6.750000                                    564.021516   \n",
              "1              8.416667                                      7.852836   \n",
              "2             13.150000                                      0.009132   \n",
              "3              6.383333                                    561.151794   \n",
              "4              0.575000                                    232.027627   \n",
              "\n",
              "   Time diff between first and last game (minutes)  \\\n",
              "0                                    812190.983333   \n",
              "1                                     11308.083333   \n",
              "2                                        13.150000   \n",
              "3                                    808058.583333   \n",
              "4                                    334119.783333   \n",
              "\n",
              "                                User ID  Gender  ...  Membership_ID  \\\n",
              "0  ce134e42-7144-11e5-ba71-058fbc01cf0b  female  ...            2.0   \n",
              "1  ce1353d8-7144-11e5-ba71-058fbc01cf0b    male  ...            1.0   \n",
              "2  ce135ab8-7144-11e5-ba71-058fbc01cf0b    male  ...            1.0   \n",
              "3  ce13507c-7144-11e5-ba71-058fbc01cf0b    male  ...            1.0   \n",
              "4  ce135e14-7144-11e5-ba71-058fbc01cf0b  female  ...            2.0   \n",
              "\n",
              "  Subscribed         City State    Zip  Country  Exclude Free_Start_User  \\\n",
              "0        1.0  Grand Forks    ND  58201       US        0               0   \n",
              "1        1.0        Barre    MA  01005       US        0               0   \n",
              "2        1.0       Darien    CT  06820       US        0               0   \n",
              "3        1.0     Winnetka    IL  60093       US        0               0   \n",
              "4        1.0      Raleigh    NC  27606       US        1               0   \n",
              "\n",
              "        Last_Active_At  Membership_Type  \n",
              "0  2015-03-12 00:25:00                2  \n",
              "1             00:00:00                1  \n",
              "2             00:00:00                1  \n",
              "3  2014-09-12 19:26:00                1  \n",
              "4             00:00:00                2  \n",
              "\n",
              "[5 rows x 30 columns]"
            ],
            "text/html": [
              "\n",
              "  <div id=\"df-70f1e4f6-1318-42f5-96f8-8a68aea1e7a1\" class=\"colab-df-container\">\n",
              "    <div>\n",
              "<style scoped>\n",
              "    .dataframe tbody tr th:only-of-type {\n",
              "        vertical-align: middle;\n",
              "    }\n",
              "\n",
              "    .dataframe tbody tr th {\n",
              "        vertical-align: top;\n",
              "    }\n",
              "\n",
              "    .dataframe thead th {\n",
              "        text-align: right;\n",
              "    }\n",
              "</style>\n",
              "<table border=\"1\" class=\"dataframe\">\n",
              "  <thead>\n",
              "    <tr style=\"text-align: right;\">\n",
              "      <th></th>\n",
              "      <th>Dog ID</th>\n",
              "      <th>Total Tests Completed</th>\n",
              "      <th>Mean ITI (days)</th>\n",
              "      <th>Mean ITI (minutes)</th>\n",
              "      <th>Median ITI (days)</th>\n",
              "      <th>Median ITI (minutes)</th>\n",
              "      <th>Time diff between first and last game (days)</th>\n",
              "      <th>Time diff between first and last game (minutes)</th>\n",
              "      <th>User ID</th>\n",
              "      <th>Gender</th>\n",
              "      <th>...</th>\n",
              "      <th>Membership_ID</th>\n",
              "      <th>Subscribed</th>\n",
              "      <th>City</th>\n",
              "      <th>State</th>\n",
              "      <th>Zip</th>\n",
              "      <th>Country</th>\n",
              "      <th>Exclude</th>\n",
              "      <th>Free_Start_User</th>\n",
              "      <th>Last_Active_At</th>\n",
              "      <th>Membership_Type</th>\n",
              "    </tr>\n",
              "  </thead>\n",
              "  <tbody>\n",
              "    <tr>\n",
              "      <th>0</th>\n",
              "      <td>fd27b272-7144-11e5-ba71-058fbc01cf0b</td>\n",
              "      <td>21</td>\n",
              "      <td>28.201076</td>\n",
              "      <td>40609.549167</td>\n",
              "      <td>0.004687</td>\n",
              "      <td>6.750000</td>\n",
              "      <td>564.021516</td>\n",
              "      <td>812190.983333</td>\n",
              "      <td>ce134e42-7144-11e5-ba71-058fbc01cf0b</td>\n",
              "      <td>female</td>\n",
              "      <td>...</td>\n",
              "      <td>2.0</td>\n",
              "      <td>1.0</td>\n",
              "      <td>Grand Forks</td>\n",
              "      <td>ND</td>\n",
              "      <td>58201</td>\n",
              "      <td>US</td>\n",
              "      <td>0</td>\n",
              "      <td>0</td>\n",
              "      <td>2015-03-12 00:25:00</td>\n",
              "      <td>2</td>\n",
              "    </tr>\n",
              "    <tr>\n",
              "      <th>1</th>\n",
              "      <td>fd27b5ba-7144-11e5-ba71-058fbc01cf0b</td>\n",
              "      <td>20</td>\n",
              "      <td>0.413307</td>\n",
              "      <td>595.162281</td>\n",
              "      <td>0.005845</td>\n",
              "      <td>8.416667</td>\n",
              "      <td>7.852836</td>\n",
              "      <td>11308.083333</td>\n",
              "      <td>ce1353d8-7144-11e5-ba71-058fbc01cf0b</td>\n",
              "      <td>male</td>\n",
              "      <td>...</td>\n",
              "      <td>1.0</td>\n",
              "      <td>1.0</td>\n",
              "      <td>Barre</td>\n",
              "      <td>MA</td>\n",
              "      <td>01005</td>\n",
              "      <td>US</td>\n",
              "      <td>0</td>\n",
              "      <td>0</td>\n",
              "      <td>00:00:00</td>\n",
              "      <td>1</td>\n",
              "    </tr>\n",
              "    <tr>\n",
              "      <th>2</th>\n",
              "      <td>fd27b6b4-7144-11e5-ba71-058fbc01cf0b</td>\n",
              "      <td>2</td>\n",
              "      <td>0.009132</td>\n",
              "      <td>13.150000</td>\n",
              "      <td>0.009132</td>\n",
              "      <td>13.150000</td>\n",
              "      <td>0.009132</td>\n",
              "      <td>13.150000</td>\n",
              "      <td>ce135ab8-7144-11e5-ba71-058fbc01cf0b</td>\n",
              "      <td>male</td>\n",
              "      <td>...</td>\n",
              "      <td>1.0</td>\n",
              "      <td>1.0</td>\n",
              "      <td>Darien</td>\n",
              "      <td>CT</td>\n",
              "      <td>06820</td>\n",
              "      <td>US</td>\n",
              "      <td>0</td>\n",
              "      <td>0</td>\n",
              "      <td>00:00:00</td>\n",
              "      <td>1</td>\n",
              "    </tr>\n",
              "    <tr>\n",
              "      <th>3</th>\n",
              "      <td>fd27b79a-7144-11e5-ba71-058fbc01cf0b</td>\n",
              "      <td>11</td>\n",
              "      <td>56.115179</td>\n",
              "      <td>80805.858333</td>\n",
              "      <td>0.004433</td>\n",
              "      <td>6.383333</td>\n",
              "      <td>561.151794</td>\n",
              "      <td>808058.583333</td>\n",
              "      <td>ce13507c-7144-11e5-ba71-058fbc01cf0b</td>\n",
              "      <td>male</td>\n",
              "      <td>...</td>\n",
              "      <td>1.0</td>\n",
              "      <td>1.0</td>\n",
              "      <td>Winnetka</td>\n",
              "      <td>IL</td>\n",
              "      <td>60093</td>\n",
              "      <td>US</td>\n",
              "      <td>0</td>\n",
              "      <td>0</td>\n",
              "      <td>2014-09-12 19:26:00</td>\n",
              "      <td>1</td>\n",
              "    </tr>\n",
              "    <tr>\n",
              "      <th>4</th>\n",
              "      <td>fd27b86c-7144-11e5-ba71-058fbc01cf0b</td>\n",
              "      <td>31</td>\n",
              "      <td>7.734254</td>\n",
              "      <td>11137.326111</td>\n",
              "      <td>0.000399</td>\n",
              "      <td>0.575000</td>\n",
              "      <td>232.027627</td>\n",
              "      <td>334119.783333</td>\n",
              "      <td>ce135e14-7144-11e5-ba71-058fbc01cf0b</td>\n",
              "      <td>female</td>\n",
              "      <td>...</td>\n",
              "      <td>2.0</td>\n",
              "      <td>1.0</td>\n",
              "      <td>Raleigh</td>\n",
              "      <td>NC</td>\n",
              "      <td>27606</td>\n",
              "      <td>US</td>\n",
              "      <td>1</td>\n",
              "      <td>0</td>\n",
              "      <td>00:00:00</td>\n",
              "      <td>2</td>\n",
              "    </tr>\n",
              "  </tbody>\n",
              "</table>\n",
              "<p>5 rows × 30 columns</p>\n",
              "</div>\n",
              "    <div class=\"colab-df-buttons\">\n",
              "\n",
              "  <div class=\"colab-df-container\">\n",
              "    <button class=\"colab-df-convert\" onclick=\"convertToInteractive('df-70f1e4f6-1318-42f5-96f8-8a68aea1e7a1')\"\n",
              "            title=\"Convert this dataframe to an interactive table.\"\n",
              "            style=\"display:none;\">\n",
              "\n",
              "  <svg xmlns=\"http://www.w3.org/2000/svg\" height=\"24px\" viewBox=\"0 -960 960 960\">\n",
              "    <path d=\"M120-120v-720h720v720H120Zm60-500h600v-160H180v160Zm220 220h160v-160H400v160Zm0 220h160v-160H400v160ZM180-400h160v-160H180v160Zm440 0h160v-160H620v160ZM180-180h160v-160H180v160Zm440 0h160v-160H620v160Z\"/>\n",
              "  </svg>\n",
              "    </button>\n",
              "\n",
              "  <style>\n",
              "    .colab-df-container {\n",
              "      display:flex;\n",
              "      gap: 12px;\n",
              "    }\n",
              "\n",
              "    .colab-df-convert {\n",
              "      background-color: #E8F0FE;\n",
              "      border: none;\n",
              "      border-radius: 50%;\n",
              "      cursor: pointer;\n",
              "      display: none;\n",
              "      fill: #1967D2;\n",
              "      height: 32px;\n",
              "      padding: 0 0 0 0;\n",
              "      width: 32px;\n",
              "    }\n",
              "\n",
              "    .colab-df-convert:hover {\n",
              "      background-color: #E2EBFA;\n",
              "      box-shadow: 0px 1px 2px rgba(60, 64, 67, 0.3), 0px 1px 3px 1px rgba(60, 64, 67, 0.15);\n",
              "      fill: #174EA6;\n",
              "    }\n",
              "\n",
              "    .colab-df-buttons div {\n",
              "      margin-bottom: 4px;\n",
              "    }\n",
              "\n",
              "    [theme=dark] .colab-df-convert {\n",
              "      background-color: #3B4455;\n",
              "      fill: #D2E3FC;\n",
              "    }\n",
              "\n",
              "    [theme=dark] .colab-df-convert:hover {\n",
              "      background-color: #434B5C;\n",
              "      box-shadow: 0px 1px 3px 1px rgba(0, 0, 0, 0.15);\n",
              "      filter: drop-shadow(0px 1px 2px rgba(0, 0, 0, 0.3));\n",
              "      fill: #FFFFFF;\n",
              "    }\n",
              "  </style>\n",
              "\n",
              "    <script>\n",
              "      const buttonEl =\n",
              "        document.querySelector('#df-70f1e4f6-1318-42f5-96f8-8a68aea1e7a1 button.colab-df-convert');\n",
              "      buttonEl.style.display =\n",
              "        google.colab.kernel.accessAllowed ? 'block' : 'none';\n",
              "\n",
              "      async function convertToInteractive(key) {\n",
              "        const element = document.querySelector('#df-70f1e4f6-1318-42f5-96f8-8a68aea1e7a1');\n",
              "        const dataTable =\n",
              "          await google.colab.kernel.invokeFunction('convertToInteractive',\n",
              "                                                    [key], {});\n",
              "        if (!dataTable) return;\n",
              "\n",
              "        const docLinkHtml = 'Like what you see? Visit the ' +\n",
              "          '<a target=\"_blank\" href=https://colab.research.google.com/notebooks/data_table.ipynb>data table notebook</a>'\n",
              "          + ' to learn more about interactive tables.';\n",
              "        element.innerHTML = '';\n",
              "        dataTable['output_type'] = 'display_data';\n",
              "        await google.colab.output.renderOutput(dataTable, element);\n",
              "        const docLink = document.createElement('div');\n",
              "        docLink.innerHTML = docLinkHtml;\n",
              "        element.appendChild(docLink);\n",
              "      }\n",
              "    </script>\n",
              "  </div>\n",
              "\n",
              "\n",
              "<div id=\"df-7b825022-5f22-432b-a2ce-816b6416b0fa\">\n",
              "  <button class=\"colab-df-quickchart\" onclick=\"quickchart('df-7b825022-5f22-432b-a2ce-816b6416b0fa')\"\n",
              "            title=\"Suggest charts\"\n",
              "            style=\"display:none;\">\n",
              "\n",
              "<svg xmlns=\"http://www.w3.org/2000/svg\" height=\"24px\"viewBox=\"0 0 24 24\"\n",
              "     width=\"24px\">\n",
              "    <g>\n",
              "        <path d=\"M19 3H5c-1.1 0-2 .9-2 2v14c0 1.1.9 2 2 2h14c1.1 0 2-.9 2-2V5c0-1.1-.9-2-2-2zM9 17H7v-7h2v7zm4 0h-2V7h2v10zm4 0h-2v-4h2v4z\"/>\n",
              "    </g>\n",
              "</svg>\n",
              "  </button>\n",
              "\n",
              "<style>\n",
              "  .colab-df-quickchart {\n",
              "      --bg-color: #E8F0FE;\n",
              "      --fill-color: #1967D2;\n",
              "      --hover-bg-color: #E2EBFA;\n",
              "      --hover-fill-color: #174EA6;\n",
              "      --disabled-fill-color: #AAA;\n",
              "      --disabled-bg-color: #DDD;\n",
              "  }\n",
              "\n",
              "  [theme=dark] .colab-df-quickchart {\n",
              "      --bg-color: #3B4455;\n",
              "      --fill-color: #D2E3FC;\n",
              "      --hover-bg-color: #434B5C;\n",
              "      --hover-fill-color: #FFFFFF;\n",
              "      --disabled-bg-color: #3B4455;\n",
              "      --disabled-fill-color: #666;\n",
              "  }\n",
              "\n",
              "  .colab-df-quickchart {\n",
              "    background-color: var(--bg-color);\n",
              "    border: none;\n",
              "    border-radius: 50%;\n",
              "    cursor: pointer;\n",
              "    display: none;\n",
              "    fill: var(--fill-color);\n",
              "    height: 32px;\n",
              "    padding: 0;\n",
              "    width: 32px;\n",
              "  }\n",
              "\n",
              "  .colab-df-quickchart:hover {\n",
              "    background-color: var(--hover-bg-color);\n",
              "    box-shadow: 0 1px 2px rgba(60, 64, 67, 0.3), 0 1px 3px 1px rgba(60, 64, 67, 0.15);\n",
              "    fill: var(--button-hover-fill-color);\n",
              "  }\n",
              "\n",
              "  .colab-df-quickchart-complete:disabled,\n",
              "  .colab-df-quickchart-complete:disabled:hover {\n",
              "    background-color: var(--disabled-bg-color);\n",
              "    fill: var(--disabled-fill-color);\n",
              "    box-shadow: none;\n",
              "  }\n",
              "\n",
              "  .colab-df-spinner {\n",
              "    border: 2px solid var(--fill-color);\n",
              "    border-color: transparent;\n",
              "    border-bottom-color: var(--fill-color);\n",
              "    animation:\n",
              "      spin 1s steps(1) infinite;\n",
              "  }\n",
              "\n",
              "  @keyframes spin {\n",
              "    0% {\n",
              "      border-color: transparent;\n",
              "      border-bottom-color: var(--fill-color);\n",
              "      border-left-color: var(--fill-color);\n",
              "    }\n",
              "    20% {\n",
              "      border-color: transparent;\n",
              "      border-left-color: var(--fill-color);\n",
              "      border-top-color: var(--fill-color);\n",
              "    }\n",
              "    30% {\n",
              "      border-color: transparent;\n",
              "      border-left-color: var(--fill-color);\n",
              "      border-top-color: var(--fill-color);\n",
              "      border-right-color: var(--fill-color);\n",
              "    }\n",
              "    40% {\n",
              "      border-color: transparent;\n",
              "      border-right-color: var(--fill-color);\n",
              "      border-top-color: var(--fill-color);\n",
              "    }\n",
              "    60% {\n",
              "      border-color: transparent;\n",
              "      border-right-color: var(--fill-color);\n",
              "    }\n",
              "    80% {\n",
              "      border-color: transparent;\n",
              "      border-right-color: var(--fill-color);\n",
              "      border-bottom-color: var(--fill-color);\n",
              "    }\n",
              "    90% {\n",
              "      border-color: transparent;\n",
              "      border-bottom-color: var(--fill-color);\n",
              "    }\n",
              "  }\n",
              "</style>\n",
              "\n",
              "  <script>\n",
              "    async function quickchart(key) {\n",
              "      const quickchartButtonEl =\n",
              "        document.querySelector('#' + key + ' button');\n",
              "      quickchartButtonEl.disabled = true;  // To prevent multiple clicks.\n",
              "      quickchartButtonEl.classList.add('colab-df-spinner');\n",
              "      try {\n",
              "        const charts = await google.colab.kernel.invokeFunction(\n",
              "            'suggestCharts', [key], {});\n",
              "      } catch (error) {\n",
              "        console.error('Error during call to suggestCharts:', error);\n",
              "      }\n",
              "      quickchartButtonEl.classList.remove('colab-df-spinner');\n",
              "      quickchartButtonEl.classList.add('colab-df-quickchart-complete');\n",
              "    }\n",
              "    (() => {\n",
              "      let quickchartButtonEl =\n",
              "        document.querySelector('#df-7b825022-5f22-432b-a2ce-816b6416b0fa button');\n",
              "      quickchartButtonEl.style.display =\n",
              "        google.colab.kernel.accessAllowed ? 'block' : 'none';\n",
              "    })();\n",
              "  </script>\n",
              "</div>\n",
              "    </div>\n",
              "  </div>\n"
            ]
          },
          "metadata": {},
          "execution_count": 11
        }
      ],
      "id": "emeykubr9_78"
    },
    {
      "cell_type": "markdown",
      "id": "083a82eb",
      "metadata": {
        "id": "083a82eb"
      },
      "source": [
        "# Exercise 1\n",
        "\n"
      ]
    },
    {
      "cell_type": "markdown",
      "source": [
        "## Counting Unique Dogs and Users:\n",
        "\n",
        "Let's start by calculating the number of unique Dog IDs and User IDs in the dataset."
      ],
      "metadata": {
        "id": "gTSE1t3DAHpE"
      },
      "id": "gTSE1t3DAHpE"
    },
    {
      "cell_type": "code",
      "source": [
        "# Calculate the number of unique Dog IDs and User IDs\n",
        "unique_dogs_count = dognition_data['Dog ID'].nunique()\n",
        "unique_users_count = dognition_data['User ID'].nunique()\n",
        "\n",
        "unique_dogs_count, unique_users_count"
      ],
      "metadata": {
        "colab": {
          "base_uri": "https://localhost:8080/"
        },
        "id": "z0Sc1u5eA0LW",
        "outputId": "d87f7b19-b9b3-4c93-e2ba-a35068ffea85"
      },
      "id": "z0Sc1u5eA0LW",
      "execution_count": 12,
      "outputs": [
        {
          "output_type": "execute_result",
          "data": {
            "text/plain": [
              "(17986, 16261)"
            ]
          },
          "metadata": {},
          "execution_count": 12
        }
      ]
    },
    {
      "cell_type": "markdown",
      "source": [
        "1. **Number of Unique Dogs**: The dataset contains **17,986** unique dogs.\n",
        "2. **Number of Unique Users**: There are **16,261** unique human users in the dataset.\n",
        "\n",
        "The difference in the number of unique Dog IDs and User IDs suggests that some users have registered more than one dog. This could be important for understanding user behavior and the usage patterns of the platform."
      ],
      "metadata": {
        "id": "8SFThp2uA8Mp"
      },
      "id": "8SFThp2uA8Mp"
    },
    {
      "cell_type": "markdown",
      "source": [
        "## Analyzing Countries and States\n",
        "Analyze Country and State data to understand the geographical distribution and identify any anomalies.\n"
      ],
      "metadata": {
        "id": "QWB6xVdHC2Z-"
      },
      "id": "QWB6xVdHC2Z-"
    },
    {
      "cell_type": "markdown",
      "source": [
        "Let's start by analyzing the country and state data. We'll identify the unique countries and states represented in the dataset, count them, and look for any unusual values in the state data. Then, we'll move on to examining the sign-in counts.\n",
        "\n"
      ],
      "metadata": {
        "id": "h2LuNEMGLqSn"
      },
      "id": "h2LuNEMGLqSn"
    },
    {
      "cell_type": "code",
      "source": [
        "# Analyzing Country data\n",
        "unique_countries = dognition_data['Country'].nunique()\n",
        "country_counts = dognition_data['Country'].value_counts()\n",
        "\n",
        "# Analyzing State data\n",
        "unique_states = dognition_data['State'].nunique()\n",
        "state_counts = dognition_data['State'].value_counts()\n",
        "\n",
        "unique_countries, unique_states, country_counts.head(), state_counts.head(10)"
      ],
      "metadata": {
        "id": "Ztps5uRrMt07",
        "colab": {
          "base_uri": "https://localhost:8080/"
        },
        "outputId": "ec8fa61c-a0fe-435d-fcc6-d6ce91a6f7b0"
      },
      "execution_count": 13,
      "outputs": [
        {
          "output_type": "execute_result",
          "data": {
            "text/plain": [
              "(68,\n",
              " 290,\n",
              " US    10310\n",
              " CA      551\n",
              " AU      169\n",
              " GB      158\n",
              " DE       45\n",
              " Name: Country, dtype: int64,\n",
              " CA    1548\n",
              " NY     696\n",
              " NC     637\n",
              " TX     625\n",
              " FL     575\n",
              " VA     432\n",
              " WA     372\n",
              " PA     371\n",
              " IL     361\n",
              " CO     323\n",
              " Name: State, dtype: int64)"
            ]
          },
          "metadata": {},
          "execution_count": 13
        }
      ],
      "id": "Ztps5uRrMt07"
    },
    {
      "cell_type": "markdown",
      "source": [
        "1. **Countries**:\n",
        "   - The dataset includes dogs from **68 unique countries**.\n",
        "   - The top five countries by the number of entries are:\n",
        "     - United States (US): 10,310 entries\n",
        "     - Canada (CA): 551 entries\n",
        "     - Australia (AU): 169 entries\n",
        "     - Great Britain (GB): 158 entries\n",
        "     - Germany (DE): 45 entries\n",
        "\n",
        "2. **States**:\n",
        "   - There are **290 unique state entries** in the dataset.\n",
        "   - The top ten states by the number of entries are:\n",
        "     - California (CA): 1,548 entries\n",
        "     - New York (NY): 696 entries\n",
        "     - North Carolina (NC): 637 entries\n",
        "     - Texas (TX): 625 entries\n",
        "     - Florida (FL): 575 entries\n",
        "     - Virginia (VA): 432 entries\n",
        "     - Washington (WA): 372 entries\n",
        "     - Pennsylvania (PA): 371 entries\n",
        "     - Illinois (IL): 361 entries\n",
        "     - Colorado (CO): 323 entries\n",
        "\n",
        "Given the high number of unique states (290), which is much more than the typical number of regions in any given country, it suggests that the \"State\" field may contain some erroneous or non-standard entries.\n",
        "\n",
        "\n",
        "\n"
      ],
      "metadata": {
        "id": "hVMfYQUCMfqE"
      },
      "id": "hVMfYQUCMfqE"
    },
    {
      "cell_type": "markdown",
      "source": [
        "## Analysis of Sign In Counts\n",
        "Examine Sign in Count to detect outliers, particularly focusing on the high sign-in counts which could indicate test accounts.\n"
      ],
      "metadata": {
        "id": "hgyCgVYjNQcx"
      },
      "id": "hgyCgVYjNQcx"
    },
    {
      "cell_type": "markdown",
      "source": [
        "I will examine the \"Sign in Count\" field to identify any outliers and specifically look at accounts with an unusually high number of sign-ins, which could indicate test accounts."
      ],
      "metadata": {
        "id": "CRcgJR7KNwaN"
      },
      "id": "CRcgJR7KNwaN"
    },
    {
      "cell_type": "code",
      "source": [
        "import matplotlib.pyplot as plt\n",
        "\n",
        "# Analyzing Sign in Count for outliers\n",
        "signin_counts = dognition_data['Sign_in_Count']\n",
        "\n",
        "# Plotting a histogram for Sign_in_Count\n",
        "plt.figure(figsize=(10, 6))\n",
        "plt.hist(signin_counts, bins=50, color='blue', alpha=0.7)\n",
        "plt.xlabel('Sign In Count')\n",
        "plt.ylabel('Frequency')\n",
        "plt.title('Histogram of Sign In Counts')\n",
        "plt.show()\n",
        "\n",
        "# Identifying potential outliers (e.g., Sign In Count greater than 175)\n",
        "outlier_threshold = 175\n",
        "outlier_signins = dognition_data[dognition_data['Sign_in_Count'] > outlier_threshold]\n",
        "\n",
        "outlier_signins_count = outlier_signins.shape[0]\n",
        "outlier_dog_ids = outlier_signins['Dog ID'].nunique()\n",
        "\n",
        "outlier_signins_count, outlier_dog_ids, outlier_signins[['Dog ID', 'Sign_in_Count']].head()\n",
        "\n"
      ],
      "metadata": {
        "colab": {
          "base_uri": "https://localhost:8080/",
          "height": 709
        },
        "id": "FLWXVyYKOYlY",
        "outputId": "8c34fde0-e6f1-43cb-9356-b3cc579a84f5"
      },
      "id": "FLWXVyYKOYlY",
      "execution_count": 14,
      "outputs": [
        {
          "output_type": "display_data",
          "data": {
            "text/plain": [
              "<Figure size 1000x600 with 1 Axes>"
            ],
            "image/png": "[encoded data removed]"
          },
          "metadata": {}
        },
        {
          "output_type": "execute_result",
          "data": {
            "text/plain": [
              "(50,\n",
              " 50,\n",
              "                                   Dog ID  Sign_in_Count\n",
              " 4   fd27b86c-7144-11e5-ba71-058fbc01cf0b          181.0\n",
              " 6   fd27ba1a-7144-11e5-ba71-058fbc01cf0b          181.0\n",
              " 43  fd27e9a4-7144-11e5-ba71-058fbc01cf0b          181.0\n",
              " 45  fd27ed46-7144-11e5-ba71-058fbc01cf0b          181.0\n",
              " 61  fd3ccf2c-7144-11e5-ba71-058fbc01cf0b          355.0)"
            ]
          },
          "metadata": {},
          "execution_count": 14
        }
      ]
    },
    {
      "cell_type": "markdown",
      "source": [
        "1. **Histogram Overview**:\n",
        "   - The histogram of sign-in counts shows a distribution skewed towards lower counts, with a few outliers having very high sign-in counts.\n",
        "\n",
        "2. **Outliers Analysis**:\n",
        "   - There are **50 entries** with a sign-in count greater than 175.\n",
        "   - These entries correspond to **50 unique Dog IDs**.\n",
        "   - Example entries with high sign-in counts include Dog IDs with counts like 181 and even as high as 355."
      ],
      "metadata": {
        "id": "7siRUBKxMAut"
      },
      "id": "7siRUBKxMAut"
    },
    {
      "cell_type": "markdown",
      "metadata": {
        "id": "T4ock_okQoo4"
      },
      "source": [
        "# Exercise 2\n",
        "\n"
      ],
      "id": "T4ock_okQoo4"
    },
    {
      "cell_type": "markdown",
      "metadata": {
        "id": "z2Mj9jvBQotn"
      },
      "source": [
        "# Exercise 3"
      ],
      "id": "z2Mj9jvBQotn"
    },
    {
      "cell_type": "markdown",
      "metadata": {
        "id": "hgALgU_lQviK"
      },
      "source": [
        "# Exercise 4\n"
      ],
      "id": "hgALgU_lQviK"
    },
    {
      "cell_type": "markdown",
      "metadata": {
        "id": "0kVvaGfGQoxr"
      },
      "source": [
        "# Exercise 4\n",
        "\n"
      ],
      "id": "0kVvaGfGQoxr"
    }
  ],
  "metadata": {
    "colab": {
      "provenance": [],
      "toc_visible": true
    },
    "language_info": {
      "name": "python"
    },
    "kernelspec": {
      "name": "python3",
      "display_name": "Python 3"
    }
  },
  "nbformat": 4,
  "nbformat_minor": 5
}