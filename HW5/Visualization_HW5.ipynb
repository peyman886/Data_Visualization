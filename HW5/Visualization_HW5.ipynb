{
  "cells": [
    {
      "cell_type": "markdown",
      "source": [
        "# Dataset"
      ],
      "metadata": {
        "id": "Pxcfy-xtARcO"
      },
      "id": "Pxcfy-xtARcO"
    },
    {
      "cell_type": "markdown",
      "source": [
        "## Download dataset"
      ],
      "metadata": {
        "id": "A4xpDXJ3-VYd"
      },
      "id": "A4xpDXJ3-VYd"
    },
    {
      "cell_type": "code",
      "source": [
        "import os\n",
        "if not os.path.isfile('dognition_data_no_aggregation.xlsx'):\n",
        "  ! gdown 16jtW9LPLscEdL0pwKd2-_htYvpuK6Inz"
      ],
      "metadata": {
        "id": "ntRezFH2-UT9"
      },
      "id": "ntRezFH2-UT9",
      "execution_count": 15,
      "outputs": []
    },
    {
      "cell_type": "code",
      "source": [
        "if not os.path.isfile('zip_code_correction.xlsx'):\n",
        "  ! gdown 1fIY1oOiOVVkrjZJ_ZlnCI-KRr5KXEQ9h"
      ],
      "metadata": {
        "id": "dZEIHZ6uXrTm"
      },
      "id": "dZEIHZ6uXrTm",
      "execution_count": 16,
      "outputs": []
    },
    {
      "cell_type": "markdown",
      "source": [
        "## Overview of Dognition\n",
        "\n",
        "I review the \"Dognition Dataset Description\" PDF to understand the dataset better before proceeding with the exercises.The \"Dognition Dataset Description\" PDF provides a comprehensive overview of the dataset we will be working with. Here are the key points:\n",
        "\n",
        "- Dognition is a company offering a set of 20 interactive games designed by scientists, trainers, and behavioral specialists, which are part of the Dognition Assessment.\n",
        "- The assessment is aimed at understanding a dog's personality and cognitive strategies.\n",
        "- Customers receive a detailed report post-assessment, categorizing their dog into one of nine personality profiles like “Socialite,” “Einstein,” or “Maverick.”\n",
        "\n",
        "### Goals and Data Usage\n",
        "- Dognition's goal is to collect diverse data from various dogs to enhance their understanding and services.\n",
        "- The dataset is provided for analyzing business strategies to increase user engagement and test completion.\n",
        "\n",
        "### Data Set Description\n",
        "- **Two Files:**\n",
        "  1. `dognition_data_aggregated_by_dogid`\n",
        "  2. `dognition_data_no_aggregation`\n",
        "- **Data Characteristics:**\n",
        "  - Rows: 17,986 (aggregated) and 177,481 (non-aggregated)\n",
        "  - Columns: 30 in each\n",
        "\n",
        "### Key Variables in the Dataset\n",
        "- **User and Dog Information:** User_ID, Dog_ID, Gender, Birthday, Breed, etc.\n",
        "- **Game and Assessment Details:** Test_name, Subcategory_name, Dimension (personality profile)\n",
        "- **Engagement Metrics:** Sign_in_Count, Last_Active_At, Membership_Type, Total Tests Completed, Mean/Median Inter-Test Interval (ITI)\n",
        "- **Special Flags:** Exclude (for questionable data entries), Free_Start_User (indicating whether a user received the first 4 games for free)\n",
        "- **Ranking and Time Stamps:** Rank_by_UserID, Rank_by_DogID, Created_at, Updated_at\n",
        "\n",
        "### Notes\n",
        "- The dataset is real-world data, so expect it to be messy and possibly have missing data."
      ],
      "metadata": {
        "id": "6pZpwFmRZzsX"
      },
      "id": "6pZpwFmRZzsX"
    },
    {
      "cell_type": "markdown",
      "id": "083a82eb",
      "metadata": {
        "id": "083a82eb"
      },
      "source": [
        "# Exercise 1: Data Cleaning and Analysis\n",
        "\n",
        "\n",
        "\n"
      ]
    },
    {
      "cell_type": "markdown",
      "source": [
        "1. **Part 1:** Load and explore the dataset to understand its structure and contents.\n",
        "2. **Part 2:** Identify and exclude unrealistic data entries (e.g., 190-pound Shih Tzus).\n",
        "3. **Part 3:** Analyze user drop-off points in the Dognition test sequence.\n",
        "4. **Part 4:** Create a filter or a method to exclude the identified unrealistic data entries.\n",
        "5. **Part 5:** Visualize user drop-off points using a bar graph.\n",
        "6. **Part 6:** Enhance the visualization by including subcategories or test names.\n",
        "7. **Part 7:** Interpret the results and provide insights.\n"
      ],
      "metadata": {
        "id": "2nuvWP6xbuTH"
      },
      "id": "2nuvWP6xbuTH"
    },
    {
      "cell_type": "markdown",
      "source": [
        "## Part 1: Data Loading and Initial Exploration\n"
      ],
      "metadata": {
        "id": "-3Ax4PN2b9-5"
      },
      "id": "-3Ax4PN2b9-5"
    },
    {
      "cell_type": "markdown",
      "source": [
        "We will begin with Part 1: Loading and exploring the dataset. I will load the dataset, examine its structure, types of data it contains, and any initial observations that might be relevant for further analysis. Let's start with this."
      ],
      "metadata": {
        "id": "0K80RprSc6C8"
      },
      "id": "0K80RprSc6C8"
    },
    {
      "cell_type": "code",
      "source": [
        "import pandas as pd\n",
        "\n",
        "# Load the dataset \"dognition_data_no_aggregation.csv\"\n",
        "file_path = 'dognition_data_no_aggregation.xlsx'\n",
        "dognition_data = pd.read_excel(file_path)"
      ],
      "metadata": {
        "id": "8aXjdbtFcSHP"
      },
      "id": "8aXjdbtFcSHP",
      "execution_count": 19,
      "outputs": []
    },
    {
      "cell_type": "code",
      "source": [
        "# Display basic information and the first few rows of the dataset\n",
        "dognition_data.info()"
      ],
      "metadata": {
        "colab": {
          "base_uri": "https://localhost:8080/"
        },
        "id": "SrJ8oA7cc_zP",
        "outputId": "86672278-be04-441e-87af-da82ff49981c"
      },
      "id": "SrJ8oA7cc_zP",
      "execution_count": 20,
      "outputs": [
        {
          "output_type": "stream",
          "name": "stdout",
          "text": [
            "<class 'pandas.core.frame.DataFrame'>\n",
            "RangeIndex: 177481 entries, 0 to 177480\n",
            "Data columns (total 30 columns):\n",
            " #   Column            Non-Null Count   Dtype         \n",
            "---  ------            --------------   -----         \n",
            " 0   Created_at        177481 non-null  datetime64[ns]\n",
            " 1   Updated_at        177481 non-null  datetime64[ns]\n",
            " 2   User_ID           177481 non-null  object        \n",
            " 3   Dog_ID            177481 non-null  object        \n",
            " 4   Test_name         177481 non-null  object        \n",
            " 5   Subcategory_name  177481 non-null  object        \n",
            " 6   Gender            177481 non-null  object        \n",
            " 7   Birthday          177481 non-null  int64         \n",
            " 8   Breed             177279 non-null  object        \n",
            " 9   Breed_Type        177481 non-null  object        \n",
            " 10  Breed_Group       88923 non-null   object        \n",
            " 11  Weight            177481 non-null  int64         \n",
            " 12  Dog_Fixed         175317 non-null  float64       \n",
            " 13  DNA_Tested        52968 non-null   float64       \n",
            " 14  Dimension         91070 non-null   object        \n",
            " 15  Sign_in_Count     177481 non-null  int64         \n",
            " 16  Max_Dogs          177481 non-null  int64         \n",
            " 17  Membership_ID     176335 non-null  float64       \n",
            " 18  Subscribed        177481 non-null  int64         \n",
            " 19  City              138477 non-null  object        \n",
            " 20  State             138492 non-null  object        \n",
            " 21  Zip               138127 non-null  object        \n",
            " 22  Country           139516 non-null  object        \n",
            " 23  Exclude           12763 non-null   object        \n",
            " 24  Free_Start_User   36321 non-null   object        \n",
            " 25  Last_Active_At    147876 non-null  object        \n",
            " 26  Membership_Type   176400 non-null  object        \n",
            " 27  Rating            1873 non-null    float64       \n",
            " 28  Rank_by_UserID    177025 non-null  float64       \n",
            " 29  Rank_by_DogID     177025 non-null  float64       \n",
            "dtypes: datetime64[ns](2), float64(6), int64(5), object(17)\n",
            "memory usage: 40.6+ MB\n"
          ]
        }
      ]
    },
    {
      "cell_type": "code",
      "source": [
        "dognition_data.head()"
      ],
      "metadata": {
        "colab": {
          "base_uri": "https://localhost:8080/",
          "height": 516
        },
        "id": "ljC8TWZKdKDh",
        "outputId": "fb517671-b065-4fdb-d783-6adbf02080a3"
      },
      "id": "ljC8TWZKdKDh",
      "execution_count": 21,
      "outputs": [
        {
          "output_type": "execute_result",
          "data": {
            "text/plain": [
              "           Created_at          Updated_at  \\\n",
              "0 2013-05-13 16:17:00 2013-05-13 16:17:00   \n",
              "1 2013-05-22 18:54:00 2013-05-22 18:54:00   \n",
              "2 2013-05-22 18:55:00 2013-05-22 18:55:00   \n",
              "3 2013-05-22 18:56:00 2013-05-22 18:56:00   \n",
              "4 2013-05-22 18:58:00 2013-05-22 18:58:00   \n",
              "\n",
              "                                User_ID                                Dog_ID  \\\n",
              "0  ce134a78-7144-11e5-ba71-058fbc01cf0b  fd3d1b44-7144-11e5-ba71-058fbc01cf0b   \n",
              "1  ce134a78-7144-11e5-ba71-058fbc01cf0b  fd3d1b44-7144-11e5-ba71-058fbc01cf0b   \n",
              "2  ce134a78-7144-11e5-ba71-058fbc01cf0b  fd3d1b44-7144-11e5-ba71-058fbc01cf0b   \n",
              "3  ce134a78-7144-11e5-ba71-058fbc01cf0b  fd3d1b44-7144-11e5-ba71-058fbc01cf0b   \n",
              "4  ce134a78-7144-11e5-ba71-058fbc01cf0b  fd3d1b44-7144-11e5-ba71-058fbc01cf0b   \n",
              "\n",
              "             Test_name Subcategory_name Gender  Birthday     Breed  \\\n",
              "0         Yawn Warm-up          Empathy   male      2009  Shih Tzu   \n",
              "1            Yawn Game          Empathy   male      2009  Shih Tzu   \n",
              "2  Eye Contact Warm-up          Empathy   male      2009  Shih Tzu   \n",
              "3     Eye Contact Game          Empathy   male      2009  Shih Tzu   \n",
              "4        Treat Warm-up    Communication   male      2009  Shih Tzu   \n",
              "\n",
              "   Breed_Type  ... State    Zip  Country  Exclude Free_Start_User  \\\n",
              "0  Pure Breed  ...    NC  27701       US        1               0   \n",
              "1  Pure Breed  ...    NC  27701       US        1               0   \n",
              "2  Pure Breed  ...    NC  27701       US        1               0   \n",
              "3  Pure Breed  ...    NC  27701       US        1               0   \n",
              "4  Pure Breed  ...    NC  27701       US        1               0   \n",
              "\n",
              "        Last_Active_At  Membership_Type  Rating  Rank_by_UserID Rank_by_DogID  \n",
              "0  2015-02-23 13:39:00                2     NaN             1.0           1.0  \n",
              "1  2015-02-23 13:39:00                2     NaN             2.0           2.0  \n",
              "2  2015-02-23 13:39:00                2     NaN             3.0           3.0  \n",
              "3  2015-02-23 13:39:00                2     NaN             4.0           4.0  \n",
              "4  2015-02-23 13:39:00                2     NaN             5.0           5.0  \n",
              "\n",
              "[5 rows x 30 columns]"
            ],
            "text/html": [
              "\n",
              "  <div id=\"df-57d23ec7-628d-4ee1-a8f5-74d490814547\" class=\"colab-df-container\">\n",
              "    <div>\n",
              "<style scoped>\n",
              "    .dataframe tbody tr th:only-of-type {\n",
              "        vertical-align: middle;\n",
              "    }\n",
              "\n",
              "    .dataframe tbody tr th {\n",
              "        vertical-align: top;\n",
              "    }\n",
              "\n",
              "    .dataframe thead th {\n",
              "        text-align: right;\n",
              "    }\n",
              "</style>\n",
              "<table border=\"1\" class=\"dataframe\">\n",
              "  <thead>\n",
              "    <tr style=\"text-align: right;\">\n",
              "      <th></th>\n",
              "      <th>Created_at</th>\n",
              "      <th>Updated_at</th>\n",
              "      <th>User_ID</th>\n",
              "      <th>Dog_ID</th>\n",
              "      <th>Test_name</th>\n",
              "      <th>Subcategory_name</th>\n",
              "      <th>Gender</th>\n",
              "      <th>Birthday</th>\n",
              "      <th>Breed</th>\n",
              "      <th>Breed_Type</th>\n",
              "      <th>...</th>\n",
              "      <th>State</th>\n",
              "      <th>Zip</th>\n",
              "      <th>Country</th>\n",
              "      <th>Exclude</th>\n",
              "      <th>Free_Start_User</th>\n",
              "      <th>Last_Active_At</th>\n",
              "      <th>Membership_Type</th>\n",
              "      <th>Rating</th>\n",
              "      <th>Rank_by_UserID</th>\n",
              "      <th>Rank_by_DogID</th>\n",
              "    </tr>\n",
              "  </thead>\n",
              "  <tbody>\n",
              "    <tr>\n",
              "      <th>0</th>\n",
              "      <td>2013-05-13 16:17:00</td>\n",
              "      <td>2013-05-13 16:17:00</td>\n",
              "      <td>ce134a78-7144-11e5-ba71-058fbc01cf0b</td>\n",
              "      <td>fd3d1b44-7144-11e5-ba71-058fbc01cf0b</td>\n",
              "      <td>Yawn Warm-up</td>\n",
              "      <td>Empathy</td>\n",
              "      <td>male</td>\n",
              "      <td>2009</td>\n",
              "      <td>Shih Tzu</td>\n",
              "      <td>Pure Breed</td>\n",
              "      <td>...</td>\n",
              "      <td>NC</td>\n",
              "      <td>27701</td>\n",
              "      <td>US</td>\n",
              "      <td>1</td>\n",
              "      <td>0</td>\n",
              "      <td>2015-02-23 13:39:00</td>\n",
              "      <td>2</td>\n",
              "      <td>NaN</td>\n",
              "      <td>1.0</td>\n",
              "      <td>1.0</td>\n",
              "    </tr>\n",
              "    <tr>\n",
              "      <th>1</th>\n",
              "      <td>2013-05-22 18:54:00</td>\n",
              "      <td>2013-05-22 18:54:00</td>\n",
              "      <td>ce134a78-7144-11e5-ba71-058fbc01cf0b</td>\n",
              "      <td>fd3d1b44-7144-11e5-ba71-058fbc01cf0b</td>\n",
              "      <td>Yawn Game</td>\n",
              "      <td>Empathy</td>\n",
              "      <td>male</td>\n",
              "      <td>2009</td>\n",
              "      <td>Shih Tzu</td>\n",
              "      <td>Pure Breed</td>\n",
              "      <td>...</td>\n",
              "      <td>NC</td>\n",
              "      <td>27701</td>\n",
              "      <td>US</td>\n",
              "      <td>1</td>\n",
              "      <td>0</td>\n",
              "      <td>2015-02-23 13:39:00</td>\n",
              "      <td>2</td>\n",
              "      <td>NaN</td>\n",
              "      <td>2.0</td>\n",
              "      <td>2.0</td>\n",
              "    </tr>\n",
              "    <tr>\n",
              "      <th>2</th>\n",
              "      <td>2013-05-22 18:55:00</td>\n",
              "      <td>2013-05-22 18:55:00</td>\n",
              "      <td>ce134a78-7144-11e5-ba71-058fbc01cf0b</td>\n",
              "      <td>fd3d1b44-7144-11e5-ba71-058fbc01cf0b</td>\n",
              "      <td>Eye Contact Warm-up</td>\n",
              "      <td>Empathy</td>\n",
              "      <td>male</td>\n",
              "      <td>2009</td>\n",
              "      <td>Shih Tzu</td>\n",
              "      <td>Pure Breed</td>\n",
              "      <td>...</td>\n",
              "      <td>NC</td>\n",
              "      <td>27701</td>\n",
              "      <td>US</td>\n",
              "      <td>1</td>\n",
              "      <td>0</td>\n",
              "      <td>2015-02-23 13:39:00</td>\n",
              "      <td>2</td>\n",
              "      <td>NaN</td>\n",
              "      <td>3.0</td>\n",
              "      <td>3.0</td>\n",
              "    </tr>\n",
              "    <tr>\n",
              "      <th>3</th>\n",
              "      <td>2013-05-22 18:56:00</td>\n",
              "      <td>2013-05-22 18:56:00</td>\n",
              "      <td>ce134a78-7144-11e5-ba71-058fbc01cf0b</td>\n",
              "      <td>fd3d1b44-7144-11e5-ba71-058fbc01cf0b</td>\n",
              "      <td>Eye Contact Game</td>\n",
              "      <td>Empathy</td>\n",
              "      <td>male</td>\n",
              "      <td>2009</td>\n",
              "      <td>Shih Tzu</td>\n",
              "      <td>Pure Breed</td>\n",
              "      <td>...</td>\n",
              "      <td>NC</td>\n",
              "      <td>27701</td>\n",
              "      <td>US</td>\n",
              "      <td>1</td>\n",
              "      <td>0</td>\n",
              "      <td>2015-02-23 13:39:00</td>\n",
              "      <td>2</td>\n",
              "      <td>NaN</td>\n",
              "      <td>4.0</td>\n",
              "      <td>4.0</td>\n",
              "    </tr>\n",
              "    <tr>\n",
              "      <th>4</th>\n",
              "      <td>2013-05-22 18:58:00</td>\n",
              "      <td>2013-05-22 18:58:00</td>\n",
              "      <td>ce134a78-7144-11e5-ba71-058fbc01cf0b</td>\n",
              "      <td>fd3d1b44-7144-11e5-ba71-058fbc01cf0b</td>\n",
              "      <td>Treat Warm-up</td>\n",
              "      <td>Communication</td>\n",
              "      <td>male</td>\n",
              "      <td>2009</td>\n",
              "      <td>Shih Tzu</td>\n",
              "      <td>Pure Breed</td>\n",
              "      <td>...</td>\n",
              "      <td>NC</td>\n",
              "      <td>27701</td>\n",
              "      <td>US</td>\n",
              "      <td>1</td>\n",
              "      <td>0</td>\n",
              "      <td>2015-02-23 13:39:00</td>\n",
              "      <td>2</td>\n",
              "      <td>NaN</td>\n",
              "      <td>5.0</td>\n",
              "      <td>5.0</td>\n",
              "    </tr>\n",
              "  </tbody>\n",
              "</table>\n",
              "<p>5 rows × 30 columns</p>\n",
              "</div>\n",
              "    <div class=\"colab-df-buttons\">\n",
              "\n",
              "  <div class=\"colab-df-container\">\n",
              "    <button class=\"colab-df-convert\" onclick=\"convertToInteractive('df-57d23ec7-628d-4ee1-a8f5-74d490814547')\"\n",
              "            title=\"Convert this dataframe to an interactive table.\"\n",
              "            style=\"display:none;\">\n",
              "\n",
              "  <svg xmlns=\"http://www.w3.org/2000/svg\" height=\"24px\" viewBox=\"0 -960 960 960\">\n",
              "    <path d=\"M120-120v-720h720v720H120Zm60-500h600v-160H180v160Zm220 220h160v-160H400v160Zm0 220h160v-160H400v160ZM180-400h160v-160H180v160Zm440 0h160v-160H620v160ZM180-180h160v-160H180v160Zm440 0h160v-160H620v160Z\"/>\n",
              "  </svg>\n",
              "    </button>\n",
              "\n",
              "  <style>\n",
              "    .colab-df-container {\n",
              "      display:flex;\n",
              "      gap: 12px;\n",
              "    }\n",
              "\n",
              "    .colab-df-convert {\n",
              "      background-color: #E8F0FE;\n",
              "      border: none;\n",
              "      border-radius: 50%;\n",
              "      cursor: pointer;\n",
              "      display: none;\n",
              "      fill: #1967D2;\n",
              "      height: 32px;\n",
              "      padding: 0 0 0 0;\n",
              "      width: 32px;\n",
              "    }\n",
              "\n",
              "    .colab-df-convert:hover {\n",
              "      background-color: #E2EBFA;\n",
              "      box-shadow: 0px 1px 2px rgba(60, 64, 67, 0.3), 0px 1px 3px 1px rgba(60, 64, 67, 0.15);\n",
              "      fill: #174EA6;\n",
              "    }\n",
              "\n",
              "    .colab-df-buttons div {\n",
              "      margin-bottom: 4px;\n",
              "    }\n",
              "\n",
              "    [theme=dark] .colab-df-convert {\n",
              "      background-color: #3B4455;\n",
              "      fill: #D2E3FC;\n",
              "    }\n",
              "\n",
              "    [theme=dark] .colab-df-convert:hover {\n",
              "      background-color: #434B5C;\n",
              "      box-shadow: 0px 1px 3px 1px rgba(0, 0, 0, 0.15);\n",
              "      filter: drop-shadow(0px 1px 2px rgba(0, 0, 0, 0.3));\n",
              "      fill: #FFFFFF;\n",
              "    }\n",
              "  </style>\n",
              "\n",
              "    <script>\n",
              "      const buttonEl =\n",
              "        document.querySelector('#df-57d23ec7-628d-4ee1-a8f5-74d490814547 button.colab-df-convert');\n",
              "      buttonEl.style.display =\n",
              "        google.colab.kernel.accessAllowed ? 'block' : 'none';\n",
              "\n",
              "      async function convertToInteractive(key) {\n",
              "        const element = document.querySelector('#df-57d23ec7-628d-4ee1-a8f5-74d490814547');\n",
              "        const dataTable =\n",
              "          await google.colab.kernel.invokeFunction('convertToInteractive',\n",
              "                                                    [key], {});\n",
              "        if (!dataTable) return;\n",
              "\n",
              "        const docLinkHtml = 'Like what you see? Visit the ' +\n",
              "          '<a target=\"_blank\" href=https://colab.research.google.com/notebooks/data_table.ipynb>data table notebook</a>'\n",
              "          + ' to learn more about interactive tables.';\n",
              "        element.innerHTML = '';\n",
              "        dataTable['output_type'] = 'display_data';\n",
              "        await google.colab.output.renderOutput(dataTable, element);\n",
              "        const docLink = document.createElement('div');\n",
              "        docLink.innerHTML = docLinkHtml;\n",
              "        element.appendChild(docLink);\n",
              "      }\n",
              "    </script>\n",
              "  </div>\n",
              "\n",
              "\n",
              "<div id=\"df-d5c59bec-922a-4fb4-b562-fb75234c66d2\">\n",
              "  <button class=\"colab-df-quickchart\" onclick=\"quickchart('df-d5c59bec-922a-4fb4-b562-fb75234c66d2')\"\n",
              "            title=\"Suggest charts\"\n",
              "            style=\"display:none;\">\n",
              "\n",
              "<svg xmlns=\"http://www.w3.org/2000/svg\" height=\"24px\"viewBox=\"0 0 24 24\"\n",
              "     width=\"24px\">\n",
              "    <g>\n",
              "        <path d=\"M19 3H5c-1.1 0-2 .9-2 2v14c0 1.1.9 2 2 2h14c1.1 0 2-.9 2-2V5c0-1.1-.9-2-2-2zM9 17H7v-7h2v7zm4 0h-2V7h2v10zm4 0h-2v-4h2v4z\"/>\n",
              "    </g>\n",
              "</svg>\n",
              "  </button>\n",
              "\n",
              "<style>\n",
              "  .colab-df-quickchart {\n",
              "      --bg-color: #E8F0FE;\n",
              "      --fill-color: #1967D2;\n",
              "      --hover-bg-color: #E2EBFA;\n",
              "      --hover-fill-color: #174EA6;\n",
              "      --disabled-fill-color: #AAA;\n",
              "      --disabled-bg-color: #DDD;\n",
              "  }\n",
              "\n",
              "  [theme=dark] .colab-df-quickchart {\n",
              "      --bg-color: #3B4455;\n",
              "      --fill-color: #D2E3FC;\n",
              "      --hover-bg-color: #434B5C;\n",
              "      --hover-fill-color: #FFFFFF;\n",
              "      --disabled-bg-color: #3B4455;\n",
              "      --disabled-fill-color: #666;\n",
              "  }\n",
              "\n",
              "  .colab-df-quickchart {\n",
              "    background-color: var(--bg-color);\n",
              "    border: none;\n",
              "    border-radius: 50%;\n",
              "    cursor: pointer;\n",
              "    display: none;\n",
              "    fill: var(--fill-color);\n",
              "    height: 32px;\n",
              "    padding: 0;\n",
              "    width: 32px;\n",
              "  }\n",
              "\n",
              "  .colab-df-quickchart:hover {\n",
              "    background-color: var(--hover-bg-color);\n",
              "    box-shadow: 0 1px 2px rgba(60, 64, 67, 0.3), 0 1px 3px 1px rgba(60, 64, 67, 0.15);\n",
              "    fill: var(--button-hover-fill-color);\n",
              "  }\n",
              "\n",
              "  .colab-df-quickchart-complete:disabled,\n",
              "  .colab-df-quickchart-complete:disabled:hover {\n",
              "    background-color: var(--disabled-bg-color);\n",
              "    fill: var(--disabled-fill-color);\n",
              "    box-shadow: none;\n",
              "  }\n",
              "\n",
              "  .colab-df-spinner {\n",
              "    border: 2px solid var(--fill-color);\n",
              "    border-color: transparent;\n",
              "    border-bottom-color: var(--fill-color);\n",
              "    animation:\n",
              "      spin 1s steps(1) infinite;\n",
              "  }\n",
              "\n",
              "  @keyframes spin {\n",
              "    0% {\n",
              "      border-color: transparent;\n",
              "      border-bottom-color: var(--fill-color);\n",
              "      border-left-color: var(--fill-color);\n",
              "    }\n",
              "    20% {\n",
              "      border-color: transparent;\n",
              "      border-left-color: var(--fill-color);\n",
              "      border-top-color: var(--fill-color);\n",
              "    }\n",
              "    30% {\n",
              "      border-color: transparent;\n",
              "      border-left-color: var(--fill-color);\n",
              "      border-top-color: var(--fill-color);\n",
              "      border-right-color: var(--fill-color);\n",
              "    }\n",
              "    40% {\n",
              "      border-color: transparent;\n",
              "      border-right-color: var(--fill-color);\n",
              "      border-top-color: var(--fill-color);\n",
              "    }\n",
              "    60% {\n",
              "      border-color: transparent;\n",
              "      border-right-color: var(--fill-color);\n",
              "    }\n",
              "    80% {\n",
              "      border-color: transparent;\n",
              "      border-right-color: var(--fill-color);\n",
              "      border-bottom-color: var(--fill-color);\n",
              "    }\n",
              "    90% {\n",
              "      border-color: transparent;\n",
              "      border-bottom-color: var(--fill-color);\n",
              "    }\n",
              "  }\n",
              "</style>\n",
              "\n",
              "  <script>\n",
              "    async function quickchart(key) {\n",
              "      const quickchartButtonEl =\n",
              "        document.querySelector('#' + key + ' button');\n",
              "      quickchartButtonEl.disabled = true;  // To prevent multiple clicks.\n",
              "      quickchartButtonEl.classList.add('colab-df-spinner');\n",
              "      try {\n",
              "        const charts = await google.colab.kernel.invokeFunction(\n",
              "            'suggestCharts', [key], {});\n",
              "      } catch (error) {\n",
              "        console.error('Error during call to suggestCharts:', error);\n",
              "      }\n",
              "      quickchartButtonEl.classList.remove('colab-df-spinner');\n",
              "      quickchartButtonEl.classList.add('colab-df-quickchart-complete');\n",
              "    }\n",
              "    (() => {\n",
              "      let quickchartButtonEl =\n",
              "        document.querySelector('#df-d5c59bec-922a-4fb4-b562-fb75234c66d2 button');\n",
              "      quickchartButtonEl.style.display =\n",
              "        google.colab.kernel.accessAllowed ? 'block' : 'none';\n",
              "    })();\n",
              "  </script>\n",
              "</div>\n",
              "    </div>\n",
              "  </div>\n"
            ]
          },
          "metadata": {},
          "execution_count": 21
        }
      ]
    },
    {
      "cell_type": "markdown",
      "source": [
        "\n",
        "The Dognition dataset has been successfully loaded. Here are the initial findings:\n",
        "\n",
        "- **Total Entries:** 177,481\n",
        "- **Columns:** 31\n",
        "- **Key Columns:**\n",
        "  - `User_ID`, `Dog_ID`: Identifiers for users and dogs.\n",
        "  - `Test_name`, `Subcategory_name`: Details about the Dognition tests.\n",
        "  - `Breed`, `Weight`: Information about the dogs.\n",
        "  - `Created_at`, `Updated_at`: Timestamps of activities.\n",
        "  - `Exclude`, `Free_Start_User`: Special flags for data filtering.\n",
        "  - `Rank_by_UserID`, `Rank_by_DogID`: Ranking information.\n",
        "\n",
        "#### Observations:\n",
        "- The dataset contains a mix of numerical, categorical, and timestamp data.\n",
        "- There are columns with significant missing values, such as `DNA_Tested` and `Dimension`.\n",
        "- The `Exclude` column seems relevant for filtering out test accounts or unrealistic data, as mentioned in the assignment.\n",
        "\n"
      ],
      "metadata": {
        "id": "_QQukzYrbbUR"
      },
      "id": "_QQukzYrbbUR"
    },
    {
      "cell_type": "markdown",
      "source": [
        "## Part 2: Identifying and Excluding Unrealistic Data Entries\n",
        "\n"
      ],
      "metadata": {
        "id": "maVBHcRAdapR"
      },
      "id": "maVBHcRAdapR"
    },
    {
      "cell_type": "markdown",
      "source": [
        "We will now proceed to Part 2, where we'll identify and exclude unrealistic data entries, such as 190-pound Shih Tzus, as per the assignment instructions.\n"
      ],
      "metadata": {
        "id": "ckRzeosMcs4l"
      },
      "id": "ckRzeosMcs4l"
    },
    {
      "cell_type": "markdown",
      "source": [
        "The steps involved in this part will include:\n",
        "\n",
        "1. **Filtering for Specific Breed:** Identify entries for Shih Tzus.\n",
        "2. **Identifying Unrealistic Weights:** Find entries where Shih Tzus are listed as weighing 190 pounds.\n",
        "3. **Excluding Unrealistic Data:** Remove these entries from the dataset for accurate analysis.\n",
        "\n",
        "Let's start by filtering the dataset for Shih Tzus and identifying those with the specified unrealistic weight.\n",
        "\n"
      ],
      "metadata": {
        "id": "hbLjnSriduJ4"
      },
      "id": "hbLjnSriduJ4"
    },
    {
      "cell_type": "code",
      "source": [
        "# Filtering for Shih Tzus and identifying entries with 190 pounds weight\n",
        "shih_tzus_filter = dognition_data[(dognition_data['Breed'] == 'Shih Tzu') & (dognition_data['Weight'] == 190)]\n",
        "\n",
        "# Number of unrealistic entries found\n",
        "unrealistic_entries_count = len(shih_tzus_filter)\n",
        "\n",
        "# Excluding these entries from the main dataset\n",
        "dognition_data_cleaned = dognition_data.drop(shih_tzus_filter.index)\n",
        "\n",
        "unrealistic_entries_count, dognition_data_cleaned.shape\n"
      ],
      "metadata": {
        "colab": {
          "base_uri": "https://localhost:8080/"
        },
        "id": "5TuGGcdveBtP",
        "outputId": "d3674ecf-791e-4ba3-b764-ab8fc310bbc0"
      },
      "id": "5TuGGcdveBtP",
      "execution_count": 22,
      "outputs": [
        {
          "output_type": "execute_result",
          "data": {
            "text/plain": [
              "(1200, (176281, 30))"
            ]
          },
          "metadata": {},
          "execution_count": 22
        }
      ]
    },
    {
      "cell_type": "markdown",
      "source": [
        "#### Results:\n",
        "1. **Unrealistic Entries Identified:** 1,200 entries of Shih Tzus weighing 190 pounds were found in the dataset.\n",
        "2. **Data After Exclusion:** These entries have been removed, resulting in a cleaned dataset with 176,281 entries (down from the original 177,481)."
      ],
      "metadata": {
        "id": "D8h6sa2_eAuN"
      },
      "id": "D8h6sa2_eAuN"
    },
    {
      "cell_type": "markdown",
      "source": [
        "## Part 3: Analyzing User Drop-off Points"
      ],
      "metadata": {
        "id": "LXzX-AxMeSP9"
      },
      "id": "LXzX-AxMeSP9"
    },
    {
      "cell_type": "markdown",
      "source": [
        "we will analyze user drop-off points in the Dognition test sequence.\n",
        "\n",
        "The steps for this analysis include:\n",
        "\n",
        "1. **Understanding Test Sequence:** Identify the sequence of tests in Dognition.\n",
        "2. **Calculating Drop-offs:** Determine at which test users are most likely to stop participating.\n",
        "3. **Analyzing Trends:** Look for patterns or trends in the drop-off points.\n",
        "\n",
        "I will start by examining the test sequence and calculating the drop-off points. This will involve analyzing the 'Test_name' and 'Rank_by_DogID' fields, and potentially other relevant columns. Let's begin the analysis."
      ],
      "metadata": {
        "id": "l3E1jl20evkD"
      },
      "id": "l3E1jl20evkD"
    },
    {
      "cell_type": "code",
      "source": [
        "# Analyzing the test sequence and calculating drop-off points\n",
        "\n",
        "# Grouping the data by 'Dog_ID' and 'Test_name' and counting the occurrences\n",
        "drop_off_analysis = dognition_data_cleaned.groupby(['Dog_ID', 'Test_name']).size().reset_index(name='Count')\n",
        "\n",
        "# Sorting by Dog_ID and Count to see the last test most dogs participated in\n",
        "sorted_drop_off = drop_off_analysis.sort_values(by=['Dog_ID', 'Count'], ascending=[True, False])\n",
        "\n",
        "# Taking the first occurrence for each Dog_ID, which represents the last test they completed\n",
        "last_tests = sorted_drop_off.drop_duplicates(subset='Dog_ID')\n",
        "\n",
        "# Counting how many times each test appears as the last test completed\n",
        "drop_off_counts = last_tests['Test_name'].value_counts().reset_index()\n",
        "drop_off_counts.columns = ['Test_name', 'Drop_Off_Count']\n",
        "\n",
        "drop_off_counts.head()  # Displaying the top results for analysis\n"
      ],
      "metadata": {
        "colab": {
          "base_uri": "https://localhost:8080/",
          "height": 206
        },
        "id": "TQJVdz4le7A1",
        "outputId": "4f9f1250-9346-44b9-8faf-ad5b7fe58923"
      },
      "id": "TQJVdz4le7A1",
      "execution_count": 23,
      "outputs": [
        {
          "output_type": "execute_result",
          "data": {
            "text/plain": [
              "             Test_name  Drop_Off_Count\n",
              "0         Arm Pointing            9387\n",
              "1     Eye Contact Game            4083\n",
              "2            Yawn Game            1417\n",
              "3         Yawn Warm-up            1207\n",
              "4  Eye Contact Warm-up             402"
            ],
            "text/html": [
              "\n",
              "  <div id=\"df-55892ca5-d480-42bc-b937-1f313bb22a55\" class=\"colab-df-container\">\n",
              "    <div>\n",
              "<style scoped>\n",
              "    .dataframe tbody tr th:only-of-type {\n",
              "        vertical-align: middle;\n",
              "    }\n",
              "\n",
              "    .dataframe tbody tr th {\n",
              "        vertical-align: top;\n",
              "    }\n",
              "\n",
              "    .dataframe thead th {\n",
              "        text-align: right;\n",
              "    }\n",
              "</style>\n",
              "<table border=\"1\" class=\"dataframe\">\n",
              "  <thead>\n",
              "    <tr style=\"text-align: right;\">\n",
              "      <th></th>\n",
              "      <th>Test_name</th>\n",
              "      <th>Drop_Off_Count</th>\n",
              "    </tr>\n",
              "  </thead>\n",
              "  <tbody>\n",
              "    <tr>\n",
              "      <th>0</th>\n",
              "      <td>Arm Pointing</td>\n",
              "      <td>9387</td>\n",
              "    </tr>\n",
              "    <tr>\n",
              "      <th>1</th>\n",
              "      <td>Eye Contact Game</td>\n",
              "      <td>4083</td>\n",
              "    </tr>\n",
              "    <tr>\n",
              "      <th>2</th>\n",
              "      <td>Yawn Game</td>\n",
              "      <td>1417</td>\n",
              "    </tr>\n",
              "    <tr>\n",
              "      <th>3</th>\n",
              "      <td>Yawn Warm-up</td>\n",
              "      <td>1207</td>\n",
              "    </tr>\n",
              "    <tr>\n",
              "      <th>4</th>\n",
              "      <td>Eye Contact Warm-up</td>\n",
              "      <td>402</td>\n",
              "    </tr>\n",
              "  </tbody>\n",
              "</table>\n",
              "</div>\n",
              "    <div class=\"colab-df-buttons\">\n",
              "\n",
              "  <div class=\"colab-df-container\">\n",
              "    <button class=\"colab-df-convert\" onclick=\"convertToInteractive('df-55892ca5-d480-42bc-b937-1f313bb22a55')\"\n",
              "            title=\"Convert this dataframe to an interactive table.\"\n",
              "            style=\"display:none;\">\n",
              "\n",
              "  <svg xmlns=\"http://www.w3.org/2000/svg\" height=\"24px\" viewBox=\"0 -960 960 960\">\n",
              "    <path d=\"M120-120v-720h720v720H120Zm60-500h600v-160H180v160Zm220 220h160v-160H400v160Zm0 220h160v-160H400v160ZM180-400h160v-160H180v160Zm440 0h160v-160H620v160ZM180-180h160v-160H180v160Zm440 0h160v-160H620v160Z\"/>\n",
              "  </svg>\n",
              "    </button>\n",
              "\n",
              "  <style>\n",
              "    .colab-df-container {\n",
              "      display:flex;\n",
              "      gap: 12px;\n",
              "    }\n",
              "\n",
              "    .colab-df-convert {\n",
              "      background-color: #E8F0FE;\n",
              "      border: none;\n",
              "      border-radius: 50%;\n",
              "      cursor: pointer;\n",
              "      display: none;\n",
              "      fill: #1967D2;\n",
              "      height: 32px;\n",
              "      padding: 0 0 0 0;\n",
              "      width: 32px;\n",
              "    }\n",
              "\n",
              "    .colab-df-convert:hover {\n",
              "      background-color: #E2EBFA;\n",
              "      box-shadow: 0px 1px 2px rgba(60, 64, 67, 0.3), 0px 1px 3px 1px rgba(60, 64, 67, 0.15);\n",
              "      fill: #174EA6;\n",
              "    }\n",
              "\n",
              "    .colab-df-buttons div {\n",
              "      margin-bottom: 4px;\n",
              "    }\n",
              "\n",
              "    [theme=dark] .colab-df-convert {\n",
              "      background-color: #3B4455;\n",
              "      fill: #D2E3FC;\n",
              "    }\n",
              "\n",
              "    [theme=dark] .colab-df-convert:hover {\n",
              "      background-color: #434B5C;\n",
              "      box-shadow: 0px 1px 3px 1px rgba(0, 0, 0, 0.15);\n",
              "      filter: drop-shadow(0px 1px 2px rgba(0, 0, 0, 0.3));\n",
              "      fill: #FFFFFF;\n",
              "    }\n",
              "  </style>\n",
              "\n",
              "    <script>\n",
              "      const buttonEl =\n",
              "        document.querySelector('#df-55892ca5-d480-42bc-b937-1f313bb22a55 button.colab-df-convert');\n",
              "      buttonEl.style.display =\n",
              "        google.colab.kernel.accessAllowed ? 'block' : 'none';\n",
              "\n",
              "      async function convertToInteractive(key) {\n",
              "        const element = document.querySelector('#df-55892ca5-d480-42bc-b937-1f313bb22a55');\n",
              "        const dataTable =\n",
              "          await google.colab.kernel.invokeFunction('convertToInteractive',\n",
              "                                                    [key], {});\n",
              "        if (!dataTable) return;\n",
              "\n",
              "        const docLinkHtml = 'Like what you see? Visit the ' +\n",
              "          '<a target=\"_blank\" href=https://colab.research.google.com/notebooks/data_table.ipynb>data table notebook</a>'\n",
              "          + ' to learn more about interactive tables.';\n",
              "        element.innerHTML = '';\n",
              "        dataTable['output_type'] = 'display_data';\n",
              "        await google.colab.output.renderOutput(dataTable, element);\n",
              "        const docLink = document.createElement('div');\n",
              "        docLink.innerHTML = docLinkHtml;\n",
              "        element.appendChild(docLink);\n",
              "      }\n",
              "    </script>\n",
              "  </div>\n",
              "\n",
              "\n",
              "<div id=\"df-ec934ddd-b032-48b4-a0a8-298005410363\">\n",
              "  <button class=\"colab-df-quickchart\" onclick=\"quickchart('df-ec934ddd-b032-48b4-a0a8-298005410363')\"\n",
              "            title=\"Suggest charts\"\n",
              "            style=\"display:none;\">\n",
              "\n",
              "<svg xmlns=\"http://www.w3.org/2000/svg\" height=\"24px\"viewBox=\"0 0 24 24\"\n",
              "     width=\"24px\">\n",
              "    <g>\n",
              "        <path d=\"M19 3H5c-1.1 0-2 .9-2 2v14c0 1.1.9 2 2 2h14c1.1 0 2-.9 2-2V5c0-1.1-.9-2-2-2zM9 17H7v-7h2v7zm4 0h-2V7h2v10zm4 0h-2v-4h2v4z\"/>\n",
              "    </g>\n",
              "</svg>\n",
              "  </button>\n",
              "\n",
              "<style>\n",
              "  .colab-df-quickchart {\n",
              "      --bg-color: #E8F0FE;\n",
              "      --fill-color: #1967D2;\n",
              "      --hover-bg-color: #E2EBFA;\n",
              "      --hover-fill-color: #174EA6;\n",
              "      --disabled-fill-color: #AAA;\n",
              "      --disabled-bg-color: #DDD;\n",
              "  }\n",
              "\n",
              "  [theme=dark] .colab-df-quickchart {\n",
              "      --bg-color: #3B4455;\n",
              "      --fill-color: #D2E3FC;\n",
              "      --hover-bg-color: #434B5C;\n",
              "      --hover-fill-color: #FFFFFF;\n",
              "      --disabled-bg-color: #3B4455;\n",
              "      --disabled-fill-color: #666;\n",
              "  }\n",
              "\n",
              "  .colab-df-quickchart {\n",
              "    background-color: var(--bg-color);\n",
              "    border: none;\n",
              "    border-radius: 50%;\n",
              "    cursor: pointer;\n",
              "    display: none;\n",
              "    fill: var(--fill-color);\n",
              "    height: 32px;\n",
              "    padding: 0;\n",
              "    width: 32px;\n",
              "  }\n",
              "\n",
              "  .colab-df-quickchart:hover {\n",
              "    background-color: var(--hover-bg-color);\n",
              "    box-shadow: 0 1px 2px rgba(60, 64, 67, 0.3), 0 1px 3px 1px rgba(60, 64, 67, 0.15);\n",
              "    fill: var(--button-hover-fill-color);\n",
              "  }\n",
              "\n",
              "  .colab-df-quickchart-complete:disabled,\n",
              "  .colab-df-quickchart-complete:disabled:hover {\n",
              "    background-color: var(--disabled-bg-color);\n",
              "    fill: var(--disabled-fill-color);\n",
              "    box-shadow: none;\n",
              "  }\n",
              "\n",
              "  .colab-df-spinner {\n",
              "    border: 2px solid var(--fill-color);\n",
              "    border-color: transparent;\n",
              "    border-bottom-color: var(--fill-color);\n",
              "    animation:\n",
              "      spin 1s steps(1) infinite;\n",
              "  }\n",
              "\n",
              "  @keyframes spin {\n",
              "    0% {\n",
              "      border-color: transparent;\n",
              "      border-bottom-color: var(--fill-color);\n",
              "      border-left-color: var(--fill-color);\n",
              "    }\n",
              "    20% {\n",
              "      border-color: transparent;\n",
              "      border-left-color: var(--fill-color);\n",
              "      border-top-color: var(--fill-color);\n",
              "    }\n",
              "    30% {\n",
              "      border-color: transparent;\n",
              "      border-left-color: var(--fill-color);\n",
              "      border-top-color: var(--fill-color);\n",
              "      border-right-color: var(--fill-color);\n",
              "    }\n",
              "    40% {\n",
              "      border-color: transparent;\n",
              "      border-right-color: var(--fill-color);\n",
              "      border-top-color: var(--fill-color);\n",
              "    }\n",
              "    60% {\n",
              "      border-color: transparent;\n",
              "      border-right-color: var(--fill-color);\n",
              "    }\n",
              "    80% {\n",
              "      border-color: transparent;\n",
              "      border-right-color: var(--fill-color);\n",
              "      border-bottom-color: var(--fill-color);\n",
              "    }\n",
              "    90% {\n",
              "      border-color: transparent;\n",
              "      border-bottom-color: var(--fill-color);\n",
              "    }\n",
              "  }\n",
              "</style>\n",
              "\n",
              "  <script>\n",
              "    async function quickchart(key) {\n",
              "      const quickchartButtonEl =\n",
              "        document.querySelector('#' + key + ' button');\n",
              "      quickchartButtonEl.disabled = true;  // To prevent multiple clicks.\n",
              "      quickchartButtonEl.classList.add('colab-df-spinner');\n",
              "      try {\n",
              "        const charts = await google.colab.kernel.invokeFunction(\n",
              "            'suggestCharts', [key], {});\n",
              "      } catch (error) {\n",
              "        console.error('Error during call to suggestCharts:', error);\n",
              "      }\n",
              "      quickchartButtonEl.classList.remove('colab-df-spinner');\n",
              "      quickchartButtonEl.classList.add('colab-df-quickchart-complete');\n",
              "    }\n",
              "    (() => {\n",
              "      let quickchartButtonEl =\n",
              "        document.querySelector('#df-ec934ddd-b032-48b4-a0a8-298005410363 button');\n",
              "      quickchartButtonEl.style.display =\n",
              "        google.colab.kernel.accessAllowed ? 'block' : 'none';\n",
              "    })();\n",
              "  </script>\n",
              "</div>\n",
              "    </div>\n",
              "  </div>\n"
            ]
          },
          "metadata": {},
          "execution_count": 23
        }
      ]
    },
    {
      "cell_type": "markdown",
      "source": [
        "\n",
        "### Top Tests Where Users Drop Off:\n",
        "1. **Arm Pointing:** 9,387 drop-offs\n",
        "2. **Eye Contact Game:** 4,083 drop-offs\n",
        "3. **Yawn Game:** 1,417 drop-offs\n",
        "4. **Yawn Warm-up:** 1,207 drop-offs\n",
        "5. **Eye Contact Warm-up:** 402 drop-offs\n",
        "\n",
        "### Interpretation:\n",
        "- The test \"Arm Pointing\" is the most common point where users stop participating, followed by the \"Eye Contact Game\".\n",
        "- This pattern could indicate a trend in user engagement or test difficulty.\n",
        "\n"
      ],
      "metadata": {
        "id": "iXGv900teY-W"
      },
      "id": "iXGv900teY-W"
    },
    {
      "cell_type": "markdown",
      "source": [
        "## Part 4: Creating a Filter to Exclude Unrealistic Data\n"
      ],
      "metadata": {
        "id": "i2nbaJJOftIz"
      },
      "id": "i2nbaJJOftIz"
    },
    {
      "cell_type": "markdown",
      "source": [
        "we will create a filter or a method to exclude the identified unrealistic data entries. This step is crucial for ensuring our analysis is based on accurate and realistic data.\n",
        "\n",
        "Since we've already identified and removed the unrealistic entries (190-pound Shih Tzus) from the dataset in Part 2, the next step is to solidify this as a repeatable filtering process. This process can be applied in future analyses to ensure data integrity.\n"
      ],
      "metadata": {
        "id": "aVrkuPdPfi3C"
      },
      "id": "aVrkuPdPfi3C"
    },
    {
      "cell_type": "markdown",
      "source": [
        "### Filter Creation Steps:\n",
        "1. **Defining the Filter Criteria:** Specify the conditions for data to be excluded (e.g., specific breeds with unrealistic weights).\n",
        "2. **Applying the Filter to the Dataset:** Use the criteria to filter out unrealistic data.\n",
        "3. **Ensuring Reusability:** Make the filtering process easy to apply to the dataset in future analyses.\n",
        "\n",
        "Let's define and apply this filter process to the dataset.\n"
      ],
      "metadata": {
        "id": "qNSNzcKcf-GK"
      },
      "id": "qNSNzcKcf-GK"
    },
    {
      "cell_type": "code",
      "source": [
        "# Defining a function to filter out unrealistic data entries (specifically 190-pound Shih Tzus)\n",
        "\n",
        "def filter_unrealistic_data(dataframe):\n",
        "    \"\"\"\n",
        "    This function takes a dataframe and filters out unrealistic data entries.\n",
        "    Specifically, it removes entries where Shih Tzus are listed as weighing 190 pounds.\n",
        "    \"\"\"\n",
        "    filter_condition = (dataframe['Breed'] == 'Shih Tzu') & (dataframe['Weight'] == 190)\n",
        "    filtered_dataframe = dataframe[~filter_condition]\n",
        "    return filtered_dataframe\n",
        "\n",
        "# Applying the filter to the dataset\n",
        "dognition_data_filtered = filter_unrealistic_data(dognition_data)\n",
        "\n",
        "# Verifying the result\n",
        "filtered_data_info = dognition_data_filtered.info()\n",
        "filtered_data_info\n"
      ],
      "metadata": {
        "colab": {
          "base_uri": "https://localhost:8080/"
        },
        "id": "aAj4un-fgT9Y",
        "outputId": "a20be910-bffd-49be-9797-6de009c97dfb"
      },
      "id": "aAj4un-fgT9Y",
      "execution_count": 24,
      "outputs": [
        {
          "output_type": "stream",
          "name": "stdout",
          "text": [
            "<class 'pandas.core.frame.DataFrame'>\n",
            "Int64Index: 176281 entries, 20 to 177480\n",
            "Data columns (total 30 columns):\n",
            " #   Column            Non-Null Count   Dtype         \n",
            "---  ------            --------------   -----         \n",
            " 0   Created_at        176281 non-null  datetime64[ns]\n",
            " 1   Updated_at        176281 non-null  datetime64[ns]\n",
            " 2   User_ID           176281 non-null  object        \n",
            " 3   Dog_ID            176281 non-null  object        \n",
            " 4   Test_name         176281 non-null  object        \n",
            " 5   Subcategory_name  176281 non-null  object        \n",
            " 6   Gender            176281 non-null  object        \n",
            " 7   Birthday          176281 non-null  int64         \n",
            " 8   Breed             176079 non-null  object        \n",
            " 9   Breed_Type        176281 non-null  object        \n",
            " 10  Breed_Group       87723 non-null   object        \n",
            " 11  Weight            176281 non-null  int64         \n",
            " 12  Dog_Fixed         174138 non-null  float64       \n",
            " 13  DNA_Tested        51873 non-null   float64       \n",
            " 14  Dimension         90209 non-null   object        \n",
            " 15  Sign_in_Count     176281 non-null  int64         \n",
            " 16  Max_Dogs          176281 non-null  int64         \n",
            " 17  Membership_ID     175177 non-null  float64       \n",
            " 18  Subscribed        176281 non-null  int64         \n",
            " 19  City              137650 non-null  object        \n",
            " 20  State             137676 non-null  object        \n",
            " 21  Zip               137332 non-null  object        \n",
            " 22  Country           138625 non-null  object        \n",
            " 23  Exclude           11647 non-null   object        \n",
            " 24  Free_Start_User   35185 non-null   object        \n",
            " 25  Last_Active_At    147160 non-null  object        \n",
            " 26  Membership_Type   175222 non-null  object        \n",
            " 27  Rating            1855 non-null    float64       \n",
            " 28  Rank_by_UserID    175843 non-null  float64       \n",
            " 29  Rank_by_DogID     175843 non-null  float64       \n",
            "dtypes: datetime64[ns](2), float64(6), int64(5), object(17)\n",
            "memory usage: 41.7+ MB\n"
          ]
        }
      ]
    },
    {
      "cell_type": "markdown",
      "source": [
        "### Filter Creation and Application:\n",
        "- A function, `filter_unrealistic_data`, was defined to exclude unrealistic data entries (specifically, 190-pound Shih Tzus) from the dataset.\n",
        "- This filter was applied to the original dataset, resulting in a filtered dataset with 176,281 entries."
      ],
      "metadata": {
        "id": "94BOsjSof47Y"
      },
      "id": "94BOsjSof47Y"
    },
    {
      "cell_type": "markdown",
      "source": [
        "### Result:\n",
        "- The filtered dataset now excludes the unrealistic entries and can be used for accurate and reliable analysis.\n",
        "- This filtering process is reusable and can be applied to future datasets for consistent data cleaning."
      ],
      "metadata": {
        "id": "jW-5Dz85gtgb"
      },
      "id": "jW-5Dz85gtgb"
    },
    {
      "cell_type": "markdown",
      "source": [
        "## Part 5: Visualizing User Drop-off Points"
      ],
      "metadata": {
        "id": "ukLmHB9rg_I1"
      },
      "id": "ukLmHB9rg_I1"
    },
    {
      "cell_type": "markdown",
      "source": [
        "we will create a visualization to represent user drop-off points in the Dognition test sequence.\n",
        "\n",
        "The steps for this visualization include:\n",
        "\n",
        "1. **Choosing the Right Type of Chart:** A bar graph is ideal for visualizing the frequency of drop-offs at each test.\n",
        "2. **Preparing Data for Visualization:** Use the analysis from Part 3 to prepare the data.\n",
        "3. **Creating the Bar Graph:** Plot the number of drop-offs for each test.\n",
        "\n",
        "Let's create a bar graph to visualize the drop-off points."
      ],
      "metadata": {
        "id": "zIATqli0g5eS"
      },
      "id": "zIATqli0g5eS"
    },
    {
      "cell_type": "code",
      "source": [
        "import matplotlib.pyplot as plt\n",
        "import seaborn as sns\n",
        "\n",
        "# Preparing data for the bar graph\n",
        "drop_off_counts_sorted = drop_off_counts.sort_values('Drop_Off_Count', ascending=False)\n",
        "\n",
        "# Creating the bar graph\n",
        "plt.figure(figsize=(12, 8))\n",
        "sns.barplot(x='Drop_Off_Count', y='Test_name', data=drop_off_counts_sorted, palette='viridis')\n",
        "plt.title('User Drop-off Points in Dognition Tests')\n",
        "plt.xlabel('Number of Drop-offs')\n",
        "plt.ylabel('Test Name')\n",
        "plt.grid(True)\n",
        "plt.show()\n"
      ],
      "metadata": {
        "colab": {
          "base_uri": "https://localhost:8080/",
          "height": 671
        },
        "id": "9AIJeBfehN7u",
        "outputId": "5274eb84-a0ff-4995-de3a-783dbcc2a731"
      },
      "id": "9AIJeBfehN7u",
      "execution_count": 25,
      "outputs": [
        {
          "output_type": "display_data",
          "data": {
            "text/plain": [
              "<Figure size 1200x800 with 1 Axes>"
            ],
            "image/png": "[encoded data removed]"
          },
          "metadata": {}
        }
      ]
    },
    {
      "cell_type": "markdown",
      "source": [
        "### Part 5: Visualizing User Drop-off Points - Bar Graph\n",
        "\n",
        "The bar graph above illustrates the user drop-off points in the Dognition tests:\n",
        "\n",
        "- Each bar represents a different test.\n",
        "- The length of the bar indicates the number of drop-offs at that particular test.\n",
        "\n",
        "### Key Observations:\n",
        "- The \"Arm Pointing\" test has the highest number of drop-offs, followed by the \"Eye Contact Game\" and the \"Yawn Game\".\n",
        "- This visualization helps in easily identifying which tests have the most significant drop-offs, suggesting potential areas for improvement in user engagement or test design.\n"
      ],
      "metadata": {
        "id": "YwO2MHMEhJ88"
      },
      "id": "YwO2MHMEhJ88"
    },
    {
      "cell_type": "markdown",
      "source": [
        "## Part 6: Enhancing the Visualization with Subcategories"
      ],
      "metadata": {
        "id": "D-yf6sughcYq"
      },
      "id": "D-yf6sughcYq"
    },
    {
      "cell_type": "markdown",
      "source": [
        "we will enhance the visualization by including subcategories or test names for further insights.\n",
        "\n",
        "The steps for this enhancement include:\n",
        "\n",
        "1. **Incorporating Subcategories:** Add information about subcategories to the existing bar graph.\n",
        "2. **Visualizing Data with Subcategories:** Modify the graph to display both test names and their corresponding subcategories.\n",
        "3. **Interpreting Enhanced Visualization:** Analyze the graph for deeper insights into user behavior and test engagement.\n",
        "\n",
        "Let's enhance the bar graph by including subcategory information for each test."
      ],
      "metadata": {
        "id": "988IWO3OiLO4"
      },
      "id": "988IWO3OiLO4"
    },
    {
      "cell_type": "code",
      "source": [
        "# Merging the drop-off counts with subcategory information\n",
        "drop_off_with_subcategories = pd.merge(drop_off_counts, dognition_data_cleaned[['Test_name', 'Subcategory_name']].drop_duplicates(), on='Test_name')\n",
        "\n",
        "# Sorting the data for better visualization\n",
        "drop_off_with_subcategories_sorted = drop_off_with_subcategories.sort_values('Drop_Off_Count', ascending=False)\n",
        "\n",
        "# Creating the enhanced bar graph\n",
        "plt.figure(figsize=(12, 10))\n",
        "sns.barplot(x='Drop_Off_Count', y='Test_name', hue='Subcategory_name', data=drop_off_with_subcategories_sorted, dodge=False, palette='Set2')\n",
        "plt.title('User Drop-off Points in Dognition Tests with Subcategories')\n",
        "plt.xlabel('Number of Drop-offs')\n",
        "plt.ylabel('Test Name')\n",
        "plt.grid(True)\n",
        "plt.legend(title='Subcategory', loc='lower right' )\n",
        "plt.show()\n"
      ],
      "metadata": {
        "colab": {
          "base_uri": "https://localhost:8080/",
          "height": 814
        },
        "id": "Yw9F5lcuhkFo",
        "outputId": "1bc54372-5f66-45e9-f089-7aab92f1255e"
      },
      "id": "Yw9F5lcuhkFo",
      "execution_count": 26,
      "outputs": [
        {
          "output_type": "display_data",
          "data": {
            "text/plain": [
              "<Figure size 1200x1000 with 1 Axes>"
            ],
            "image/png": "[encoded data removed]"
          },
          "metadata": {}
        }
      ]
    },
    {
      "cell_type": "markdown",
      "source": [
        "The enhanced bar graph now includes subcategories for each test, providing a deeper understanding of user drop-offs in the Dognition tests:\n",
        "\n",
        "- **Visualization Features:**\n",
        "  - Each test is represented by a bar, color-coded by its subcategory.\n",
        "  - The length of each bar indicates the number of drop-offs.\n",
        "\n",
        "### Key Observations:\n",
        "- Subcategories such as \"Empathy\" and \"Communication\" can be seen. This might help in understanding if certain types of tests (based on cognitive skills) are more challenging or less engaging, leading to higher drop-offs.\n",
        "- Tests like \"Arm Pointing\" still show the highest drop-offs, but now we can also observe their subcategories, providing more context to the data."
      ],
      "metadata": {
        "id": "dmUPBPfwiWKH"
      },
      "id": "dmUPBPfwiWKH"
    },
    {
      "cell_type": "markdown",
      "source": [
        "## Part 7: Interpretation and Insights"
      ],
      "metadata": {
        "id": "hwtXjSROivCe"
      },
      "id": "hwtXjSROivCe"
    },
    {
      "cell_type": "markdown",
      "source": [
        "we will now interpret the results from our analysis and visualization and provide insights.\n",
        "\n",
        "\n",
        "### Insights from the Analysis and Visualization:\n",
        "1. **High Drop-off in Specific Tests:**\n",
        "   - Tests like \"Arm Pointing\" and \"Eye Contact Game\" have significantly higher drop-offs. This could indicate several factors:\n",
        "     - Difficulty level of the tests.\n",
        "     - Lack of engagement or interest in these specific tests.\n",
        "     - Potential technical or design issues within these tests.\n",
        "\n",
        "2. **Influence of Subcategories:**\n",
        "   - The inclusion of subcategories in our visualization provides an additional layer of understanding. For example, if certain subcategories like \"Empathy\" or \"Communication\" have higher drop-offs, it might suggest that these cognitive skills are either more challenging for the dogs or less appealing to the owners.\n",
        "\n",
        "3. **User Engagement Strategies:**\n",
        "   - Understanding these drop-off points can help Dognition develop strategies to improve user engagement:\n",
        "     - Enhancing the design and instructions of tests with high drop-offs.\n",
        "     - Introducing incentives or motivational elements at critical drop-off points.\n",
        "     - Providing additional support or guidance for tests that are perceived as difficult.\n",
        "\n",
        "4. **Targeted Improvements:**\n",
        "   - By identifying the tests and subcategories with the highest drop-offs, targeted improvements can be made. This can include redesigning tests, adjusting difficulty levels, or even reevaluating the test sequence.\n",
        "\n",
        "5. **Further Research:**\n",
        "   - Additional research could be conducted to understand why users drop off at these points:\n",
        "     - User surveys to gather feedback on test experience.\n",
        "     - Analyzing user demographics and dog profiles to see if certain groups are more likely to drop off.\n",
        "     - Experimenting with test modifications to observe changes in drop-off rates.\n",
        "\n",
        "### Conclusion:\n",
        "This analysis not only highlights the critical points where users discontinue the tests but also opens avenues for deeper exploration into user behavior and preferences. Understanding these patterns is vital for Dognition to enhance their assessment experience and maintain user engagement.\n",
        "\n",
        "---"
      ],
      "metadata": {
        "id": "Cet2BIlRin2P"
      },
      "id": "Cet2BIlRin2P"
    },
    {
      "cell_type": "markdown",
      "metadata": {
        "id": "T4ock_okQoo4"
      },
      "source": [
        "# Exercise 2: Time Analysis\n",
        "\n"
      ],
      "id": "T4ock_okQoo4"
    },
    {
      "cell_type": "markdown",
      "source": [
        "The objective is to understand when customers play Dognition games and adjust for time zones.\n",
        "\n",
        "1. **Part 1:** Analyze the 'Created At' timestamp data to determine popular days and hours for playing games.\n",
        "2. **Part 2:** Address the issue of timestamps being in UTC; join a secondary dataset for time zone correction.\n",
        "3. **Part 3:** Adjust the 'Created At' timestamps using the 'Diff from UTC' field.\n",
        "4. **Part 4:** Analyze the corrected times to understand peak usage hours and days.\n",
        "5. **Part 5:** Visualize the findings in a suitable format to highlight key patterns."
      ],
      "metadata": {
        "id": "doh4IV50lMxF"
      },
      "id": "doh4IV50lMxF"
    },
    {
      "cell_type": "markdown",
      "source": [
        "## Part 1: Analyzing 'Created At' Timestamps - Initial Findings"
      ],
      "metadata": {
        "id": "bMvk8WQ3lTkS"
      },
      "id": "bMvk8WQ3lTkS"
    },
    {
      "cell_type": "markdown",
      "source": [
        "Analyzing the 'Created At' timestamp data to determine popular days and hours for playing games. Let's start by examining the timestamp data to identify patterns in game-playing times."
      ],
      "metadata": {
        "id": "_CecvDr8nKeC"
      },
      "id": "_CecvDr8nKeC"
    },
    {
      "cell_type": "code",
      "source": [
        "# Convert 'Created_at' to datetime format for analysis\n",
        "dognition_data['Created_at'] = pd.to_datetime(dognition_data['Created_at'])\n",
        "\n",
        "# Extracting day of the week and hour from the 'Created_at' column\n",
        "dognition_data['Day_of_Week'] = dognition_data['Created_at'].dt.day_name()\n",
        "dognition_data['Hour_of_Day'] = dognition_data['Created_at'].dt.hour"
      ],
      "metadata": {
        "id": "WuzuvFV8l6dO",
        "outputId": "f9e2b5bd-02df-4c6d-c25b-a66320cf8ee0",
        "colab": {
          "base_uri": "https://localhost:8080/"
        }
      },
      "id": "WuzuvFV8l6dO",
      "execution_count": 27,
      "outputs": [
        {
          "output_type": "execute_result",
          "data": {
            "text/plain": [
              "Friday       21215\n",
              "Monday       27549\n",
              "Saturday     25677\n",
              "Sunday       30548\n",
              "Thursday     22287\n",
              "Tuesday      25828\n",
              "Wednesday    24377\n",
              "Name: Day_of_Week, dtype: int64"
            ]
          },
          "metadata": {},
          "execution_count": 27
        }
      ]
    },
    {
      "cell_type": "code",
      "source": [
        "# Analyzing the frequency of game playing by day of the week\n",
        "day_of_week_counts = dognition_data['Day_of_Week'].value_counts().sort_index()\n",
        "day_of_week_counts"
      ],
      "metadata": {
        "id": "frIEPSzXnuFh"
      },
      "id": "frIEPSzXnuFh",
      "execution_count": null,
      "outputs": []
    },
    {
      "cell_type": "markdown",
      "source": [
        "### Popular Days for Playing Games:\n",
        "- **Highest Activity:** Sunday, with 30,548 game plays.\n",
        "- **Lowest Activity:** Friday, with 21,215 game plays.\n",
        "- **Weekend Trend:** Both Saturday and Sunday show higher activity compared to weekdays.\n"
      ],
      "metadata": {
        "id": "eqbGT-tbnmHv"
      },
      "id": "eqbGT-tbnmHv"
    },
    {
      "cell_type": "code",
      "source": [
        "# Analyzing the frequency of game playing by hour of the day\n",
        "hour_of_day_counts = dognition_data['Hour_of_Day'].value_counts().sort_index()\n",
        "hour_of_day_counts"
      ],
      "metadata": {
        "id": "CMbYovUtmMJB",
        "outputId": "2af6bb70-c239-4125-ff84-4961fdb9bd4d",
        "colab": {
          "base_uri": "https://localhost:8080/"
        }
      },
      "id": "CMbYovUtmMJB",
      "execution_count": 28,
      "outputs": [
        {
          "output_type": "execute_result",
          "data": {
            "text/plain": [
              "0     16746\n",
              "1     15754\n",
              "2     12045\n",
              "3      8138\n",
              "4      4964\n",
              "5      2475\n",
              "6      1437\n",
              "7      1176\n",
              "8       922\n",
              "9      1057\n",
              "10     1162\n",
              "11     1421\n",
              "12     2352\n",
              "13     3790\n",
              "14     5834\n",
              "15     7401\n",
              "16     8391\n",
              "17     9855\n",
              "18    10554\n",
              "19    11504\n",
              "20    11936\n",
              "21    11947\n",
              "22    12232\n",
              "23    14388\n",
              "Name: Hour_of_Day, dtype: int64"
            ]
          },
          "metadata": {},
          "execution_count": 28
        }
      ]
    },
    {
      "cell_type": "markdown",
      "source": [
        "### Popular Hours for Playing Games:\n",
        "- **Peak Hours:** 8 PM to 11 PM (20:00 to 23:00), with the highest at 9 PM (21:00).\n",
        "- **Lowest Activity:** Early morning hours, particularly 5 AM to 7 AM (05:00 to 07:00).\n",
        "\n"
      ],
      "metadata": {
        "id": "y6KrdRW5kwti"
      },
      "id": "y6KrdRW5kwti"
    },
    {
      "cell_type": "markdown",
      "source": [
        "### Interpretation:\n",
        "- Users are more active during the evenings and on weekends, suggesting leisure or off-work hours are preferred for playing Dognition games.\n",
        "- The data currently reflects UTC time. Adjusting for time zones might reveal more accurate behavior patterns.\n"
      ],
      "metadata": {
        "id": "SMxPVhJXn8bJ"
      },
      "id": "SMxPVhJXn8bJ"
    },
    {
      "cell_type": "markdown",
      "source": [
        "## Part 2: Address the issue of timestamps being in UTC; join a secondary dataset for time zone correction."
      ],
      "metadata": {
        "id": "mdGBLvnZoewF"
      },
      "id": "mdGBLvnZoewF"
    },
    {
      "cell_type": "markdown",
      "source": [
        "To address and correct the time zone issue based on users' zip codes.\n",
        "\n",
        "**Data Merging:** Merged the \"dognition_data_no_aggregation.csv\" dataset with the \"zip_code_correction.csv\" dataset based on the zip codes to incorporate time zone information."
      ],
      "metadata": {
        "id": "kT5Rb70IoQkH"
      },
      "id": "kT5Rb70IoQkH"
    },
    {
      "cell_type": "code",
      "source": [
        "# Load the Time Zone Correction data\n",
        "time_zone_correction_path = 'zip_code_correction.xlsx'\n",
        "time_zone_correction_data = pd.read_excel(time_zone_correction_path)\n",
        "time_zone_correction_data"
      ],
      "metadata": {
        "id": "KsX3DKk0pzjA",
        "outputId": "78e9d447-4880-4e33-89bd-a2a58f4db823",
        "colab": {
          "base_uri": "https://localhost:8080/"
        }
      },
      "id": "KsX3DKk0pzjA",
      "execution_count": 37,
      "outputs": [
        {
          "output_type": "execute_result",
          "data": {
            "text/plain": [
              "0          544\n",
              "1          601\n",
              "2          602\n",
              "3          603\n",
              "4          604\n",
              "         ...  \n",
              "42516    99926\n",
              "42517    99927\n",
              "42518    99928\n",
              "42519    99929\n",
              "42520    99950\n",
              "Name: Zip, Length: 42521, dtype: int64"
            ]
          },
          "metadata": {},
          "execution_count": 37
        }
      ]
    },
    {
      "cell_type": "code",
      "source": [
        "# Ensure 'Zip' is of string type\n",
        "dognition_data['Zip'] = dognition_data['Zip'].astype(str)\n",
        "# Ensure 'Zip' in the time zone correction data is also a string\n",
        "time_zone_correction_data['Zip'] = time_zone_correction_data['Zip'].astype(str)\n",
        "\n",
        "# Merge the datasets on Zip Code\n",
        "merged_data = pd.merge(dognition_data, time_zone_correction_data, on='Zip', how='left')\n",
        "\n",
        "# Display the first few rows of the merged dataset\n",
        "merged_data.head()\n"
      ],
      "metadata": {
        "id": "q5_6wrznrR4t",
        "outputId": "c33d5012-7454-4c99-85ff-c05acb2e3845",
        "colab": {
          "base_uri": "https://localhost:8080/",
          "height": 550
        }
      },
      "id": "q5_6wrznrR4t",
      "execution_count": 40,
      "outputs": [
        {
          "output_type": "execute_result",
          "data": {
            "text/plain": [
              "           Created_at          Updated_at  \\\n",
              "0 2013-05-13 16:17:00 2013-05-13 16:17:00   \n",
              "1 2013-05-22 18:54:00 2013-05-22 18:54:00   \n",
              "2 2013-05-22 18:55:00 2013-05-22 18:55:00   \n",
              "3 2013-05-22 18:56:00 2013-05-22 18:56:00   \n",
              "4 2013-05-22 18:58:00 2013-05-22 18:58:00   \n",
              "\n",
              "                                User_ID                                Dog_ID  \\\n",
              "0  ce134a78-7144-11e5-ba71-058fbc01cf0b  fd3d1b44-7144-11e5-ba71-058fbc01cf0b   \n",
              "1  ce134a78-7144-11e5-ba71-058fbc01cf0b  fd3d1b44-7144-11e5-ba71-058fbc01cf0b   \n",
              "2  ce134a78-7144-11e5-ba71-058fbc01cf0b  fd3d1b44-7144-11e5-ba71-058fbc01cf0b   \n",
              "3  ce134a78-7144-11e5-ba71-058fbc01cf0b  fd3d1b44-7144-11e5-ba71-058fbc01cf0b   \n",
              "4  ce134a78-7144-11e5-ba71-058fbc01cf0b  fd3d1b44-7144-11e5-ba71-058fbc01cf0b   \n",
              "\n",
              "             Test_name Subcategory_name Gender  Birthday     Breed  \\\n",
              "0         Yawn Warm-up          Empathy   male      2009  Shih Tzu   \n",
              "1            Yawn Game          Empathy   male      2009  Shih Tzu   \n",
              "2  Eye Contact Warm-up          Empathy   male      2009  Shih Tzu   \n",
              "3     Eye Contact Game          Empathy   male      2009  Shih Tzu   \n",
              "4        Treat Warm-up    Communication   male      2009  Shih Tzu   \n",
              "\n",
              "   Breed_Type  ... Exclude  Free_Start_User       Last_Active_At  \\\n",
              "0  Pure Breed  ...       1                0  2015-02-23 13:39:00   \n",
              "1  Pure Breed  ...       1                0  2015-02-23 13:39:00   \n",
              "2  Pure Breed  ...       1                0  2015-02-23 13:39:00   \n",
              "3  Pure Breed  ...       1                0  2015-02-23 13:39:00   \n",
              "4  Pure Breed  ...       1                0  2015-02-23 13:39:00   \n",
              "\n",
              "   Membership_Type Rating  Rank_by_UserID  Rank_by_DogID  Day_of_Week  \\\n",
              "0                2    NaN             1.0            1.0       Monday   \n",
              "1                2    NaN             2.0            2.0    Wednesday   \n",
              "2                2    NaN             3.0            3.0    Wednesday   \n",
              "3                2    NaN             4.0            4.0    Wednesday   \n",
              "4                2    NaN             5.0            5.0    Wednesday   \n",
              "\n",
              "   Hour_of_Day Diff from UTC  \n",
              "0           16            -5  \n",
              "1           18            -5  \n",
              "2           18            -5  \n",
              "3           18            -5  \n",
              "4           18            -5  \n",
              "\n",
              "[5 rows x 33 columns]"
            ],
            "text/html": [
              "\n",
              "  <div id=\"df-29188574-349f-4b83-9bef-71932bcb15ed\" class=\"colab-df-container\">\n",
              "    <div>\n",
              "<style scoped>\n",
              "    .dataframe tbody tr th:only-of-type {\n",
              "        vertical-align: middle;\n",
              "    }\n",
              "\n",
              "    .dataframe tbody tr th {\n",
              "        vertical-align: top;\n",
              "    }\n",
              "\n",
              "    .dataframe thead th {\n",
              "        text-align: right;\n",
              "    }\n",
              "</style>\n",
              "<table border=\"1\" class=\"dataframe\">\n",
              "  <thead>\n",
              "    <tr style=\"text-align: right;\">\n",
              "      <th></th>\n",
              "      <th>Created_at</th>\n",
              "      <th>Updated_at</th>\n",
              "      <th>User_ID</th>\n",
              "      <th>Dog_ID</th>\n",
              "      <th>Test_name</th>\n",
              "      <th>Subcategory_name</th>\n",
              "      <th>Gender</th>\n",
              "      <th>Birthday</th>\n",
              "      <th>Breed</th>\n",
              "      <th>Breed_Type</th>\n",
              "      <th>...</th>\n",
              "      <th>Exclude</th>\n",
              "      <th>Free_Start_User</th>\n",
              "      <th>Last_Active_At</th>\n",
              "      <th>Membership_Type</th>\n",
              "      <th>Rating</th>\n",
              "      <th>Rank_by_UserID</th>\n",
              "      <th>Rank_by_DogID</th>\n",
              "      <th>Day_of_Week</th>\n",
              "      <th>Hour_of_Day</th>\n",
              "      <th>Diff from UTC</th>\n",
              "    </tr>\n",
              "  </thead>\n",
              "  <tbody>\n",
              "    <tr>\n",
              "      <th>0</th>\n",
              "      <td>2013-05-13 16:17:00</td>\n",
              "      <td>2013-05-13 16:17:00</td>\n",
              "      <td>ce134a78-7144-11e5-ba71-058fbc01cf0b</td>\n",
              "      <td>fd3d1b44-7144-11e5-ba71-058fbc01cf0b</td>\n",
              "      <td>Yawn Warm-up</td>\n",
              "      <td>Empathy</td>\n",
              "      <td>male</td>\n",
              "      <td>2009</td>\n",
              "      <td>Shih Tzu</td>\n",
              "      <td>Pure Breed</td>\n",
              "      <td>...</td>\n",
              "      <td>1</td>\n",
              "      <td>0</td>\n",
              "      <td>2015-02-23 13:39:00</td>\n",
              "      <td>2</td>\n",
              "      <td>NaN</td>\n",
              "      <td>1.0</td>\n",
              "      <td>1.0</td>\n",
              "      <td>Monday</td>\n",
              "      <td>16</td>\n",
              "      <td>-5</td>\n",
              "    </tr>\n",
              "    <tr>\n",
              "      <th>1</th>\n",
              "      <td>2013-05-22 18:54:00</td>\n",
              "      <td>2013-05-22 18:54:00</td>\n",
              "      <td>ce134a78-7144-11e5-ba71-058fbc01cf0b</td>\n",
              "      <td>fd3d1b44-7144-11e5-ba71-058fbc01cf0b</td>\n",
              "      <td>Yawn Game</td>\n",
              "      <td>Empathy</td>\n",
              "      <td>male</td>\n",
              "      <td>2009</td>\n",
              "      <td>Shih Tzu</td>\n",
              "      <td>Pure Breed</td>\n",
              "      <td>...</td>\n",
              "      <td>1</td>\n",
              "      <td>0</td>\n",
              "      <td>2015-02-23 13:39:00</td>\n",
              "      <td>2</td>\n",
              "      <td>NaN</td>\n",
              "      <td>2.0</td>\n",
              "      <td>2.0</td>\n",
              "      <td>Wednesday</td>\n",
              "      <td>18</td>\n",
              "      <td>-5</td>\n",
              "    </tr>\n",
              "    <tr>\n",
              "      <th>2</th>\n",
              "      <td>2013-05-22 18:55:00</td>\n",
              "      <td>2013-05-22 18:55:00</td>\n",
              "      <td>ce134a78-7144-11e5-ba71-058fbc01cf0b</td>\n",
              "      <td>fd3d1b44-7144-11e5-ba71-058fbc01cf0b</td>\n",
              "      <td>Eye Contact Warm-up</td>\n",
              "      <td>Empathy</td>\n",
              "      <td>male</td>\n",
              "      <td>2009</td>\n",
              "      <td>Shih Tzu</td>\n",
              "      <td>Pure Breed</td>\n",
              "      <td>...</td>\n",
              "      <td>1</td>\n",
              "      <td>0</td>\n",
              "      <td>2015-02-23 13:39:00</td>\n",
              "      <td>2</td>\n",
              "      <td>NaN</td>\n",
              "      <td>3.0</td>\n",
              "      <td>3.0</td>\n",
              "      <td>Wednesday</td>\n",
              "      <td>18</td>\n",
              "      <td>-5</td>\n",
              "    </tr>\n",
              "    <tr>\n",
              "      <th>3</th>\n",
              "      <td>2013-05-22 18:56:00</td>\n",
              "      <td>2013-05-22 18:56:00</td>\n",
              "      <td>ce134a78-7144-11e5-ba71-058fbc01cf0b</td>\n",
              "      <td>fd3d1b44-7144-11e5-ba71-058fbc01cf0b</td>\n",
              "      <td>Eye Contact Game</td>\n",
              "      <td>Empathy</td>\n",
              "      <td>male</td>\n",
              "      <td>2009</td>\n",
              "      <td>Shih Tzu</td>\n",
              "      <td>Pure Breed</td>\n",
              "      <td>...</td>\n",
              "      <td>1</td>\n",
              "      <td>0</td>\n",
              "      <td>2015-02-23 13:39:00</td>\n",
              "      <td>2</td>\n",
              "      <td>NaN</td>\n",
              "      <td>4.0</td>\n",
              "      <td>4.0</td>\n",
              "      <td>Wednesday</td>\n",
              "      <td>18</td>\n",
              "      <td>-5</td>\n",
              "    </tr>\n",
              "    <tr>\n",
              "      <th>4</th>\n",
              "      <td>2013-05-22 18:58:00</td>\n",
              "      <td>2013-05-22 18:58:00</td>\n",
              "      <td>ce134a78-7144-11e5-ba71-058fbc01cf0b</td>\n",
              "      <td>fd3d1b44-7144-11e5-ba71-058fbc01cf0b</td>\n",
              "      <td>Treat Warm-up</td>\n",
              "      <td>Communication</td>\n",
              "      <td>male</td>\n",
              "      <td>2009</td>\n",
              "      <td>Shih Tzu</td>\n",
              "      <td>Pure Breed</td>\n",
              "      <td>...</td>\n",
              "      <td>1</td>\n",
              "      <td>0</td>\n",
              "      <td>2015-02-23 13:39:00</td>\n",
              "      <td>2</td>\n",
              "      <td>NaN</td>\n",
              "      <td>5.0</td>\n",
              "      <td>5.0</td>\n",
              "      <td>Wednesday</td>\n",
              "      <td>18</td>\n",
              "      <td>-5</td>\n",
              "    </tr>\n",
              "  </tbody>\n",
              "</table>\n",
              "<p>5 rows × 33 columns</p>\n",
              "</div>\n",
              "    <div class=\"colab-df-buttons\">\n",
              "\n",
              "  <div class=\"colab-df-container\">\n",
              "    <button class=\"colab-df-convert\" onclick=\"convertToInteractive('df-29188574-349f-4b83-9bef-71932bcb15ed')\"\n",
              "            title=\"Convert this dataframe to an interactive table.\"\n",
              "            style=\"display:none;\">\n",
              "\n",
              "  <svg xmlns=\"http://www.w3.org/2000/svg\" height=\"24px\" viewBox=\"0 -960 960 960\">\n",
              "    <path d=\"M120-120v-720h720v720H120Zm60-500h600v-160H180v160Zm220 220h160v-160H400v160Zm0 220h160v-160H400v160ZM180-400h160v-160H180v160Zm440 0h160v-160H620v160ZM180-180h160v-160H180v160Zm440 0h160v-160H620v160Z\"/>\n",
              "  </svg>\n",
              "    </button>\n",
              "\n",
              "  <style>\n",
              "    .colab-df-container {\n",
              "      display:flex;\n",
              "      gap: 12px;\n",
              "    }\n",
              "\n",
              "    .colab-df-convert {\n",
              "      background-color: #E8F0FE;\n",
              "      border: none;\n",
              "      border-radius: 50%;\n",
              "      cursor: pointer;\n",
              "      display: none;\n",
              "      fill: #1967D2;\n",
              "      height: 32px;\n",
              "      padding: 0 0 0 0;\n",
              "      width: 32px;\n",
              "    }\n",
              "\n",
              "    .colab-df-convert:hover {\n",
              "      background-color: #E2EBFA;\n",
              "      box-shadow: 0px 1px 2px rgba(60, 64, 67, 0.3), 0px 1px 3px 1px rgba(60, 64, 67, 0.15);\n",
              "      fill: #174EA6;\n",
              "    }\n",
              "\n",
              "    .colab-df-buttons div {\n",
              "      margin-bottom: 4px;\n",
              "    }\n",
              "\n",
              "    [theme=dark] .colab-df-convert {\n",
              "      background-color: #3B4455;\n",
              "      fill: #D2E3FC;\n",
              "    }\n",
              "\n",
              "    [theme=dark] .colab-df-convert:hover {\n",
              "      background-color: #434B5C;\n",
              "      box-shadow: 0px 1px 3px 1px rgba(0, 0, 0, 0.15);\n",
              "      filter: drop-shadow(0px 1px 2px rgba(0, 0, 0, 0.3));\n",
              "      fill: #FFFFFF;\n",
              "    }\n",
              "  </style>\n",
              "\n",
              "    <script>\n",
              "      const buttonEl =\n",
              "        document.querySelector('#df-29188574-349f-4b83-9bef-71932bcb15ed button.colab-df-convert');\n",
              "      buttonEl.style.display =\n",
              "        google.colab.kernel.accessAllowed ? 'block' : 'none';\n",
              "\n",
              "      async function convertToInteractive(key) {\n",
              "        const element = document.querySelector('#df-29188574-349f-4b83-9bef-71932bcb15ed');\n",
              "        const dataTable =\n",
              "          await google.colab.kernel.invokeFunction('convertToInteractive',\n",
              "                                                    [key], {});\n",
              "        if (!dataTable) return;\n",
              "\n",
              "        const docLinkHtml = 'Like what you see? Visit the ' +\n",
              "          '<a target=\"_blank\" href=https://colab.research.google.com/notebooks/data_table.ipynb>data table notebook</a>'\n",
              "          + ' to learn more about interactive tables.';\n",
              "        element.innerHTML = '';\n",
              "        dataTable['output_type'] = 'display_data';\n",
              "        await google.colab.output.renderOutput(dataTable, element);\n",
              "        const docLink = document.createElement('div');\n",
              "        docLink.innerHTML = docLinkHtml;\n",
              "        element.appendChild(docLink);\n",
              "      }\n",
              "    </script>\n",
              "  </div>\n",
              "\n",
              "\n",
              "<div id=\"df-66f2918f-cc63-4195-817a-26bc7169e87a\">\n",
              "  <button class=\"colab-df-quickchart\" onclick=\"quickchart('df-66f2918f-cc63-4195-817a-26bc7169e87a')\"\n",
              "            title=\"Suggest charts\"\n",
              "            style=\"display:none;\">\n",
              "\n",
              "<svg xmlns=\"http://www.w3.org/2000/svg\" height=\"24px\"viewBox=\"0 0 24 24\"\n",
              "     width=\"24px\">\n",
              "    <g>\n",
              "        <path d=\"M19 3H5c-1.1 0-2 .9-2 2v14c0 1.1.9 2 2 2h14c1.1 0 2-.9 2-2V5c0-1.1-.9-2-2-2zM9 17H7v-7h2v7zm4 0h-2V7h2v10zm4 0h-2v-4h2v4z\"/>\n",
              "    </g>\n",
              "</svg>\n",
              "  </button>\n",
              "\n",
              "<style>\n",
              "  .colab-df-quickchart {\n",
              "      --bg-color: #E8F0FE;\n",
              "      --fill-color: #1967D2;\n",
              "      --hover-bg-color: #E2EBFA;\n",
              "      --hover-fill-color: #174EA6;\n",
              "      --disabled-fill-color: #AAA;\n",
              "      --disabled-bg-color: #DDD;\n",
              "  }\n",
              "\n",
              "  [theme=dark] .colab-df-quickchart {\n",
              "      --bg-color: #3B4455;\n",
              "      --fill-color: #D2E3FC;\n",
              "      --hover-bg-color: #434B5C;\n",
              "      --hover-fill-color: #FFFFFF;\n",
              "      --disabled-bg-color: #3B4455;\n",
              "      --disabled-fill-color: #666;\n",
              "  }\n",
              "\n",
              "  .colab-df-quickchart {\n",
              "    background-color: var(--bg-color);\n",
              "    border: none;\n",
              "    border-radius: 50%;\n",
              "    cursor: pointer;\n",
              "    display: none;\n",
              "    fill: var(--fill-color);\n",
              "    height: 32px;\n",
              "    padding: 0;\n",
              "    width: 32px;\n",
              "  }\n",
              "\n",
              "  .colab-df-quickchart:hover {\n",
              "    background-color: var(--hover-bg-color);\n",
              "    box-shadow: 0 1px 2px rgba(60, 64, 67, 0.3), 0 1px 3px 1px rgba(60, 64, 67, 0.15);\n",
              "    fill: var(--button-hover-fill-color);\n",
              "  }\n",
              "\n",
              "  .colab-df-quickchart-complete:disabled,\n",
              "  .colab-df-quickchart-complete:disabled:hover {\n",
              "    background-color: var(--disabled-bg-color);\n",
              "    fill: var(--disabled-fill-color);\n",
              "    box-shadow: none;\n",
              "  }\n",
              "\n",
              "  .colab-df-spinner {\n",
              "    border: 2px solid var(--fill-color);\n",
              "    border-color: transparent;\n",
              "    border-bottom-color: var(--fill-color);\n",
              "    animation:\n",
              "      spin 1s steps(1) infinite;\n",
              "  }\n",
              "\n",
              "  @keyframes spin {\n",
              "    0% {\n",
              "      border-color: transparent;\n",
              "      border-bottom-color: var(--fill-color);\n",
              "      border-left-color: var(--fill-color);\n",
              "    }\n",
              "    20% {\n",
              "      border-color: transparent;\n",
              "      border-left-color: var(--fill-color);\n",
              "      border-top-color: var(--fill-color);\n",
              "    }\n",
              "    30% {\n",
              "      border-color: transparent;\n",
              "      border-left-color: var(--fill-color);\n",
              "      border-top-color: var(--fill-color);\n",
              "      border-right-color: var(--fill-color);\n",
              "    }\n",
              "    40% {\n",
              "      border-color: transparent;\n",
              "      border-right-color: var(--fill-color);\n",
              "      border-top-color: var(--fill-color);\n",
              "    }\n",
              "    60% {\n",
              "      border-color: transparent;\n",
              "      border-right-color: var(--fill-color);\n",
              "    }\n",
              "    80% {\n",
              "      border-color: transparent;\n",
              "      border-right-color: var(--fill-color);\n",
              "      border-bottom-color: var(--fill-color);\n",
              "    }\n",
              "    90% {\n",
              "      border-color: transparent;\n",
              "      border-bottom-color: var(--fill-color);\n",
              "    }\n",
              "  }\n",
              "</style>\n",
              "\n",
              "  <script>\n",
              "    async function quickchart(key) {\n",
              "      const quickchartButtonEl =\n",
              "        document.querySelector('#' + key + ' button');\n",
              "      quickchartButtonEl.disabled = true;  // To prevent multiple clicks.\n",
              "      quickchartButtonEl.classList.add('colab-df-spinner');\n",
              "      try {\n",
              "        const charts = await google.colab.kernel.invokeFunction(\n",
              "            'suggestCharts', [key], {});\n",
              "      } catch (error) {\n",
              "        console.error('Error during call to suggestCharts:', error);\n",
              "      }\n",
              "      quickchartButtonEl.classList.remove('colab-df-spinner');\n",
              "      quickchartButtonEl.classList.add('colab-df-quickchart-complete');\n",
              "    }\n",
              "    (() => {\n",
              "      let quickchartButtonEl =\n",
              "        document.querySelector('#df-66f2918f-cc63-4195-817a-26bc7169e87a button');\n",
              "      quickchartButtonEl.style.display =\n",
              "        google.colab.kernel.accessAllowed ? 'block' : 'none';\n",
              "    })();\n",
              "  </script>\n",
              "</div>\n",
              "    </div>\n",
              "  </div>\n"
            ]
          },
          "metadata": {},
          "execution_count": 40
        }
      ]
    },
    {
      "cell_type": "markdown",
      "source": [
        "## Part 3: Adjust the 'Created At' timestamps using the 'Diff from UTC' field.\n"
      ],
      "metadata": {
        "id": "_0VNBpEIwTeN"
      },
      "id": "_0VNBpEIwTeN"
    },
    {
      "cell_type": "markdown",
      "source": [
        "**Time Zone Adjustment:** Adjusted the 'Created_at' timestamps in the Dognition dataset from UTC to local time using the 'Diff from UTC' column.\n"
      ],
      "metadata": {
        "id": "Ksb5g2ZV0v4Z"
      },
      "id": "Ksb5g2ZV0v4Z"
    },
    {
      "cell_type": "code",
      "source": [
        "# Convert 'Diff from UTC' to numeric values (assuming it's in hours)\n",
        "merged_data['Diff from UTC'] = pd.to_numeric(merged_data['Diff from UTC'], errors='coerce')\n",
        "\n",
        "# Adjust 'Created_at' timestamps to local time zones Using 'Diff from UTC' for time zone offset\n",
        "merged_data['Created_at_Local'] = merged_data['Created_at'] + pd.to_timedelta(merged_data['Diff from UTC'], unit='h')\n",
        "merged_data['Created_at_Local']"
      ],
      "metadata": {
        "id": "OoqrDmaftUoA",
        "outputId": "358cc233-2483-4f06-8ef7-c601ab81e7b6",
        "colab": {
          "base_uri": "https://localhost:8080/"
        }
      },
      "id": "OoqrDmaftUoA",
      "execution_count": 49,
      "outputs": [
        {
          "output_type": "execute_result",
          "data": {
            "text/plain": [
              "0        2013-05-13 11:17:00\n",
              "1        2013-05-22 13:54:00\n",
              "2        2013-05-22 13:55:00\n",
              "3        2013-05-22 13:56:00\n",
              "4        2013-05-22 13:58:00\n",
              "                 ...        \n",
              "177476                   NaT\n",
              "177477                   NaT\n",
              "177478                   NaT\n",
              "177479                   NaT\n",
              "177480                   NaT\n",
              "Name: Created_at_Local, Length: 177481, dtype: datetime64[ns]"
            ]
          },
          "metadata": {},
          "execution_count": 49
        }
      ]
    },
    {
      "cell_type": "markdown",
      "source": [
        "## Part 4: Analyze the corrected times to understand peak usage hours and days."
      ],
      "metadata": {
        "id": "swxytBYz2LHE"
      },
      "id": "swxytBYz2LHE"
    },
    {
      "cell_type": "markdown",
      "source": [
        "**Extraction of Local Time Information:** Extracted the day of the week and the hour of the day from the adjusted timestamps to analyze user activity in local time."
      ],
      "metadata": {
        "id": "iukKl3Qt1gOj"
      },
      "id": "iukKl3Qt1gOj"
    },
    {
      "cell_type": "code",
      "source": [
        "# Extract day of week and hour from adjusted timestamps\n",
        "merged_data['Day_of_Week_Local'] = merged_data['Created_at_Local'].dt.day_name()\n",
        "merged_data['Hour_of_Day_Local'] = merged_data['Created_at_Local'].dt.hour\n",
        "\n",
        "# Analyze frequency of game playing by day of the week in local time\n",
        "day_of_week_counts_local = merged_data['Day_of_Week_Local'].value_counts().sort_index()\n",
        "\n",
        "# Analyze frequency of game playing by hour of the day in local time\n",
        "hour_of_day_counts_local = merged_data['Hour_of_Day_Local'].value_counts().sort_index()"
      ],
      "metadata": {
        "id": "sHIFXOkm1rpU"
      },
      "id": "sHIFXOkm1rpU",
      "execution_count": 50,
      "outputs": []
    },
    {
      "cell_type": "markdown",
      "source": [
        "### Analysis of Adjusted Data:\n"
      ],
      "metadata": {
        "id": "InhcEW9S2Y2z"
      },
      "id": "InhcEW9S2Y2z"
    },
    {
      "cell_type": "code",
      "source": [
        "day_of_week_counts_local\n"
      ],
      "metadata": {
        "id": "-eT5PEWbvE-l",
        "outputId": "b06e8444-81a0-4ffd-e841-94291b20f28c",
        "colab": {
          "base_uri": "https://localhost:8080/"
        }
      },
      "id": "-eT5PEWbvE-l",
      "execution_count": 51,
      "outputs": [
        {
          "output_type": "execute_result",
          "data": {
            "text/plain": [
              "Friday       12036\n",
              "Monday       18412\n",
              "Saturday     16522\n",
              "Sunday       22081\n",
              "Thursday     12986\n",
              "Tuesday      15666\n",
              "Wednesday    14337\n",
              "Name: Day_of_Week_Local, dtype: int64"
            ]
          },
          "metadata": {},
          "execution_count": 51
        }
      ]
    },
    {
      "cell_type": "markdown",
      "source": [
        "1. **Popular Days for Game Playing (Local Time):**\n",
        "   - **Highest Activity:** Sunday (22,081 game plays)\n",
        "   - **Lowest Activity:** Friday (12,036 game plays)\n",
        "   - **Observation:** Weekends, particularly Sundays, are more popular for users to engage with Dognition games.\n"
      ],
      "metadata": {
        "id": "eO-QaBJNuqTn"
      },
      "id": "eO-QaBJNuqTn"
    },
    {
      "cell_type": "code",
      "source": [
        "hour_of_day_counts_local\n"
      ],
      "metadata": {
        "id": "0uG0obmNvIca",
        "outputId": "1426d949-a023-40c7-f2f9-6ed4a437c11e",
        "colab": {
          "base_uri": "https://localhost:8080/"
        }
      },
      "id": "0uG0obmNvIca",
      "execution_count": 52,
      "outputs": [
        {
          "output_type": "execute_result",
          "data": {
            "text/plain": [
              "0.0       385\n",
              "1.0       260\n",
              "2.0       234\n",
              "3.0       149\n",
              "4.0       278\n",
              "5.0       349\n",
              "6.0       847\n",
              "7.0      1801\n",
              "8.0      3235\n",
              "9.0      4798\n",
              "10.0     5954\n",
              "11.0     5843\n",
              "12.0     6540\n",
              "13.0     7150\n",
              "14.0     7914\n",
              "15.0     8332\n",
              "16.0     8202\n",
              "17.0     8441\n",
              "18.0    11342\n",
              "19.0    12710\n",
              "20.0     9541\n",
              "21.0     4846\n",
              "22.0     2012\n",
              "23.0      877\n",
              "Name: Hour_of_Day_Local, dtype: int64"
            ]
          },
          "metadata": {},
          "execution_count": 52
        }
      ]
    },
    {
      "cell_type": "markdown",
      "source": [
        "2. **Popular Hours for Game Playing (Local Time):**\n",
        "   - **Peak Hours:** Late afternoon to evening, specifically from 5 PM to 7 PM (17:00 to 19:00), with the peak at 6 PM (18:00).\n",
        "   - **Least Active Hours:** Early morning, around 0:00 to 6:00, with the lowest activity at 3:00 AM.\n",
        "   - **Observation:** Users are most active in the evenings, which might align with leisure time post-work or school hours."
      ],
      "metadata": {
        "id": "i24XmbeyvPbb"
      },
      "id": "i24XmbeyvPbb"
    },
    {
      "cell_type": "markdown",
      "source": [
        "### Insights:\n",
        "- **User Engagement Patterns:** The analysis indicates distinct patterns in user engagement with Dognition games. Users are more likely to engage during leisure hours, particularly on weekends and evenings.\n",
        "- **Implications for Business Strategy:**\n",
        "   - **Promotional Timing:** Dognition could target promotional activities or special events during these peak times to maximize user engagement.\n",
        "   - **Content Scheduling:** New game releases or updates could be scheduled around these times to ensure higher initial engagement.\n",
        "- **Considerations for Future Analysis:**\n",
        "   - **Demographic Factors:** Further analysis could consider demographic factors like user age, occupation, and lifestyle to understand why these specific times are preferred.\n",
        "   - **Behavioral Trends:** Analyzing how engagement patterns change over time or during special events (like holidays) could offer additional insights.\n",
        "\n",
        "This comprehensive approach, from data merging to analysis, has provided valuable insights into the behavioral patterns of Dognition's user base, which can inform business strategies and enhance user engagement."
      ],
      "metadata": {
        "id": "liBgPm12vSeK"
      },
      "id": "liBgPm12vSeK"
    },
    {
      "cell_type": "markdown",
      "source": [
        "We are analyzing the Dognition dataset to understand user behavior in terms of when they are most likely to engage with Dognition tests. Our goals are to:\n",
        "- Identify peak days and times for user activity.\n",
        "- Gain insights that can inform Dognition's content scheduling, marketing strategies, and feature development.\n",
        "\n"
      ],
      "metadata": {
        "id": "Jpg6NTpwxBVb"
      },
      "id": "Jpg6NTpwxBVb"
    },
    {
      "cell_type": "markdown",
      "source": [
        "## Part 5: Visualize the findings in a suitable format to highlight key patterns."
      ],
      "metadata": {
        "id": "6n-nE-At2uXo"
      },
      "id": "6n-nE-At2uXo"
    },
    {
      "cell_type": "markdown",
      "source": [
        "### Day-of-Week Trends:"
      ],
      "metadata": {
        "id": "K3W5ndUNxYjs"
      },
      "id": "K3W5ndUNxYjs"
    },
    {
      "cell_type": "code",
      "source": [
        "import matplotlib.pyplot as plt\n",
        "import seaborn as sns\n",
        "\n",
        "# Bar plot for day-of-week trends\n",
        "plt.figure(figsize=(10, 6))\n",
        "sns.countplot(x='Day_of_Week_Local', data=merged_data, order=['Monday', 'Tuesday', 'Wednesday', 'Thursday', 'Friday', 'Saturday', 'Sunday'])\n",
        "plt.title('Dognition Game Plays by Day of the Week')\n",
        "plt.xlabel('Day of the Week')\n",
        "plt.ylabel('Number of Game Plays')\n",
        "plt.show()\n"
      ],
      "metadata": {
        "id": "kVASuex5v-r-",
        "outputId": "b81844ea-b103-4a86-ee0d-5b1ab90edbc1",
        "colab": {
          "base_uri": "https://localhost:8080/",
          "height": 564
        }
      },
      "id": "kVASuex5v-r-",
      "execution_count": 46,
      "outputs": [
        {
          "output_type": "display_data",
          "data": {
            "text/plain": [
              "<Figure size 1000x600 with 1 Axes>"
            ],
            "image/png": "[encoded data removed]"
          },
          "metadata": {}
        }
      ]
    },
    {
      "cell_type": "markdown",
      "source": [
        "### Hourly Trends:"
      ],
      "metadata": {
        "id": "6TFpSpWXxqg1"
      },
      "id": "6TFpSpWXxqg1"
    },
    {
      "cell_type": "code",
      "source": [
        "# Line plot for hourly trends\n",
        "plt.figure(figsize=(12, 6))\n",
        "sns.lineplot(x='Hour_of_Day_Local', y=merged_data['Hour_of_Day_Local'].value_counts().sort_index(), data=merged_data)\n",
        "plt.title('Dognition Game Plays by Hour of the Day')\n",
        "plt.xlabel('Hour of the Day')\n",
        "plt.ylabel('Number of Game Plays')\n",
        "plt.xticks(range(0, 24))\n",
        "plt.grid(True)\n",
        "plt.show()\n"
      ],
      "metadata": {
        "id": "r0ndsYVewCu2",
        "outputId": "a5b9f748-ee38-49d6-dff1-5e9a37492117",
        "colab": {
          "base_uri": "https://localhost:8080/",
          "height": 564
        }
      },
      "id": "r0ndsYVewCu2",
      "execution_count": 47,
      "outputs": [
        {
          "output_type": "display_data",
          "data": {
            "text/plain": [
              "<Figure size 1200x600 with 1 Axes>"
            ],
            "image/png": "[encoded data removed]"
          },
          "metadata": {}
        }
      ]
    },
    {
      "cell_type": "markdown",
      "source": [
        "### Analysis of Results:\n",
        "#### Day-of-Week Trends:\n",
        "- **Most Active Days:** Sunday shows the highest engagement, with Saturday also having significantly higher activity than weekdays. This suggests that users are more available to interact with their pets and engage with the tests on weekends.\n",
        "- **Strategic Implications:** Dognition can capitalize on the higher weekend engagement by releasing new tests, offering weekend-only challenges, or hosting community events to foster user interaction.\n",
        "\n",
        "#### Hourly Trends:\n",
        "- **Peak Times:** There is a clear preference for evening hours, particularly from 6 PM to 7 PM. There's also noticeable midday activity that might correspond to lunch breaks or leisure time during the day.\n",
        "- **Potential Anomalies:** The sharp spikes at certain hours may require further investigation to determine if they are due to data collection issues, scheduled events within Dognition, or genuine user behavior patterns.\n",
        "- **Business Strategy:** The high evening activity suggests that Dognition could schedule live events, customer support, and marketing communications during these hours to maximize reach and engagement. The midday peak may be an opportunity for engaging users with shorter, time-constrained tests or quizzes.\n",
        "\n",
        "### Comprehensive Response:\n",
        "Based on the data visualizations provided, it's clear that user engagement with Dognition games varies significantly throughout the week and across different times of the day. With the highest activity levels on weekends and evenings, Dognition should consider these times for pushing out major updates, planning marketing campaigns, and scheduling community events. Additionally, exploring the cause behind the sharp hourly spikes might uncover specific user needs or behaviors that could be addressed to improve the user experience. The data provides actionable insights that Dognition can use to align their business strategies with user habits."
      ],
      "metadata": {
        "id": "dRQfpW8Iv6su"
      },
      "id": "dRQfpW8Iv6su"
    },
    {
      "cell_type": "markdown",
      "source": [
        "# Exercise 3: Promotion Analysis\n",
        "\n",
        "The objective of this exercise is to assess the effectiveness of the \"Free Start\" promotion in Dognition.\n",
        "\n"
      ],
      "metadata": {
        "id": "CriVKXu24QpP"
      },
      "id": "CriVKXu24QpP"
    },
    {
      "cell_type": "markdown",
      "source": [
        "## Step 1: Group Users by Promotion Status\n",
        "- **Objective:** Separate users into two groups based on whether they started with the \"Free Start\" promotion.\n",
        "\n",
        "the following code create two subsets of data, one for users who started with the \"Free Start\" and another for those who did not.\n",
        "  "
      ],
      "metadata": {
        "id": "4es-sWeh4WBO"
      },
      "id": "4es-sWeh4WBO"
    },
    {
      "cell_type": "code",
      "source": [
        "# Ensure 'Free_Start_User' column is of type string for comparison\n",
        "merged_data['Free_Start_User'] = merged_data['Free_Start_User'].astype(str)\n",
        "\n",
        "free_start_users = merged_data[merged_data['Free_Start_User'] == '1']\n",
        "non_free_start_users = merged_data[merged_data['Free_Start_User'] == '0']"
      ],
      "metadata": {
        "id": "PzH8Yc-o4iLI"
      },
      "id": "PzH8Yc-o4iLI",
      "execution_count": 55,
      "outputs": []
    },
    {
      "cell_type": "markdown",
      "source": [
        "## Step 2: Calculate Test Completion Rates\n",
        "- **Objective:** Calculate the average number of tests completed by users in each group.\n",
        "\n",
        "Use the code snippet below to calculate and print the completion rates for both groups.\n"
      ],
      "metadata": {
        "id": "Lt4umYTo4oOt"
      },
      "id": "Lt4umYTo4oOt"
    },
    {
      "cell_type": "code",
      "source": [
        "completion_rate_free_start = free_start_users['Test_name'].nunique() / free_start_users['Dog_ID'].nunique()\n",
        "completion_rate_non_free_start = non_free_start_users['Test_name'].nunique() / non_free_start_users['Dog_ID'].nunique()\n",
        "\n",
        "print(f\"Average number of tests completed by users with Free Start: {completion_rate_free_start}\")\n",
        "print(f\"Average number of tests completed by users without Free Start: {completion_rate_non_free_start}\")"
      ],
      "metadata": {
        "id": "aqrbyOLJ4wk-",
        "outputId": "47500ced-40e7-46e4-92fe-5ac14b6872af",
        "colab": {
          "base_uri": "https://localhost:8080/"
        }
      },
      "id": "aqrbyOLJ4wk-",
      "execution_count": 56,
      "outputs": [
        {
          "output_type": "stream",
          "name": "stdout",
          "text": [
            "Average number of tests completed by users with Free Start: 0.009074811863656485\n",
            "Average number of tests completed by users without Free Start: 0.03391232423490488\n"
          ]
        }
      ]
    },
    {
      "cell_type": "markdown",
      "source": [
        "## Step 3: Visualize Completion Rates\n",
        "- **Objective:** Create a visual comparison of test completion rates between the two groups.\n",
        "\n",
        "the following code generate a bar chart for visual comparison.\n"
      ],
      "metadata": {
        "id": "wP53giFJ4v47"
      },
      "id": "wP53giFJ4v47"
    },
    {
      "cell_type": "code",
      "source": [
        "import matplotlib.pyplot as plt\n",
        "\n",
        "labels = ['Free Start', 'No Free Start']\n",
        "completion_rates = [completion_rate_free_start, completion_rate_non_free_start]\n",
        "\n",
        "plt.bar(labels, completion_rates, color=['blue', 'green'])\n",
        "plt.title('Comparison of Test Completion Rates')\n",
        "plt.xlabel('Group')\n",
        "plt.ylabel('Average Completion Rate')\n",
        "plt.show()\n"
      ],
      "metadata": {
        "id": "XTiMR9jK5hS5",
        "outputId": "a71f039a-f0a4-481d-93d3-994a91714e3e",
        "colab": {
          "base_uri": "https://localhost:8080/",
          "height": 472
        }
      },
      "id": "XTiMR9jK5hS5",
      "execution_count": 59,
      "outputs": [
        {
          "output_type": "display_data",
          "data": {
            "text/plain": [
              "<Figure size 640x480 with 1 Axes>"
            ],
            "image/png": "[encoded data removed]"
          },
          "metadata": {}
        }
      ]
    },
    {
      "cell_type": "markdown",
      "source": [
        "## Step 4: Analyze the Impact of the Promotion\n",
        "- **Objective:** Interpret the results to understand the impact of the \"Free Start\" promotion on user engagement and test completion.\n"
      ],
      "metadata": {
        "id": "14SzaLgm4Hxd"
      },
      "id": "14SzaLgm4Hxd"
    },
    {
      "cell_type": "markdown",
      "source": [
        "### Results from Step 2:\n",
        "- **Free Start Users:** The average number of tests completed is approximately 0.0091.\n",
        "- **Non-Free Start Users:** The average number of tests completed is approximately 0.0339.\n",
        "\n",
        "### Interpretation:\n",
        "The average completion rate for users without the \"Free Start\" promotion is significantly higher than for those with the promotion. This suggests that the promotion does not lead to a higher test completion rate and may indicate that users who receive free access might be less engaged or less committed to completing additional tests.\n",
        "\n",
        "### Insights from Visualization (Step 3):\n",
        "The bar chart clearly illustrates the disparity in test completion rates between the two groups. The much lower completion rate for the \"Free Start\" group could point to a variety of factors:\n",
        "- **User Engagement:** Users who pay or commit to the service without a promotion might be more motivated and thus more likely to complete tests.\n",
        "- **Promotion Effectiveness:** The \"Free Start\" may attract users who are curious but not necessarily committed to long-term engagement with Dognition's services.\n",
        "- **Quality of Onboarding:** The onboarding process for users who start with the \"Free Start\" might need to be improved to encourage more test completions.\n",
        "\n",
        "### Recommendations for Dognition:\n",
        "1. **Re-evaluate the \"Free Start\" Promotion:** Consider modifying the promotion to include elements that encourage continued engagement beyond the free tests.\n",
        "2. **Improve Onboarding Experience:** Enhance the onboarding process for new users, especially those starting with the \"Free Start,\" to guide them towards more engagement.\n",
        "3. **Follow-Up Engagement Strategies:** Implement follow-up engagement strategies such as personalized recommendations, progress tracking, and rewards to incentivize users to complete more tests.\n",
        "\n",
        "### Conclusion:\n",
        "The data suggests that while the \"Free Start\" promotion may be effective in attracting users, it does not necessarily translate into higher test completion rates. Dognition should consider strategies that not only attract users but also convert them into engaged, paying customers who see value in completing the full suite of tests. Further analysis could explore the reasons behind the low completion rates among \"Free Start\" users and identify ways to improve user retention and conversion."
      ],
      "metadata": {
        "id": "NO6Hsko36seX"
      },
      "id": "NO6Hsko36seX"
    },
    {
      "cell_type": "markdown",
      "metadata": {
        "id": "z2Mj9jvBQotn"
      },
      "source": [
        "# Exercise 4: Ranking Analysis"
      ],
      "id": "z2Mj9jvBQotn"
    },
    {
      "cell_type": "markdown",
      "source": [
        "We're going to dynamically recreate the 'Rank by DogID' and 'Rank by UserID' using table calculations.\n"
      ],
      "metadata": {
        "id": "pP8bXNBb7a5U"
      },
      "id": "pP8bXNBb7a5U"
    },
    {
      "cell_type": "markdown",
      "source": [
        "## Step 1: Recreate Rank by DogID\n",
        "- **Objective:** Dynamically rank the tests for each dog based on the 'Created_at' timestamp.\n",
        "\n",
        "the following code calculate these ranks.\n"
      ],
      "metadata": {
        "id": "9opBWe5W7c1v"
      },
      "id": "9opBWe5W7c1v"
    },
    {
      "cell_type": "code",
      "source": [
        "merged_data['Calculated_Rank_by_DogID'] = merged_data.sort_values(by=['Dog_ID', 'Created_at'], ascending=True).groupby('Dog_ID').cumcount() + 1\n"
      ],
      "metadata": {
        "id": "Pz8W4diw7l70"
      },
      "id": "Pz8W4diw7l70",
      "execution_count": 63,
      "outputs": []
    },
    {
      "cell_type": "markdown",
      "source": [
        "## Step 2: Recreate Rank by UserID\n",
        "- **Objective:** Similarly, dynamically rank the tests for each user.\n",
        "\n",
        "the code snippet below calculate these ranks."
      ],
      "metadata": {
        "id": "QMrKrY_p7pTa"
      },
      "id": "QMrKrY_p7pTa"
    },
    {
      "cell_type": "code",
      "source": [
        "merged_data['Calculated_Rank_by_UserID'] = merged_data.sort_values(by=['User_ID', 'Created_at'], ascending=True).groupby('User_ID').cumcount() + 1"
      ],
      "metadata": {
        "id": "REf0VOuN7wfm"
      },
      "id": "REf0VOuN7wfm",
      "execution_count": 64,
      "outputs": []
    },
    {
      "cell_type": "markdown",
      "source": [
        "## Step 3: Validate the Ranks\n",
        "- **Objective:** Compare the newly calculated ranks with the existing 'Rank by DogID' and 'Rank by UserID' fields to ensure they match.\n",
        "\n",
        "the code below compare the ranks.\n"
      ],
      "metadata": {
        "id": "WrSPeOJL71bn"
      },
      "id": "WrSPeOJL71bn"
    },
    {
      "cell_type": "code",
      "source": [
        "discrepancies_by_dog = merged_data[merged_data['Calculated_Rank_by_DogID'] != merged_data['Rank_by_DogID']]\n",
        "discrepancies_by_dog[['Dog_ID', 'Created_at', 'Calculated_Rank_by_DogID', 'Rank_by_DogID']]"
      ],
      "metadata": {
        "id": "DV3RnDEc8jLL",
        "outputId": "1a789c4a-c61e-4db7-bcec-ab254a2b2f87",
        "colab": {
          "base_uri": "https://localhost:8080/",
          "height": 423
        }
      },
      "id": "DV3RnDEc8jLL",
      "execution_count": 66,
      "outputs": [
        {
          "output_type": "execute_result",
          "data": {
            "text/plain": [
              "                                      Dog_ID          Created_at  \\\n",
              "1454    fd45f778-7144-11e5-ba71-058fbc01cf0b 2013-06-11 23:36:00   \n",
              "1455    fd45f778-7144-11e5-ba71-058fbc01cf0b 2013-06-11 23:45:00   \n",
              "1456    fd45f778-7144-11e5-ba71-058fbc01cf0b 2013-06-17 22:31:00   \n",
              "1457    fd45f778-7144-11e5-ba71-058fbc01cf0b 2013-06-17 22:38:00   \n",
              "1458    fd45f778-7144-11e5-ba71-058fbc01cf0b 2013-06-17 22:48:00   \n",
              "...                                      ...                 ...   \n",
              "175241  fdbae308-7144-11e5-ba71-058fbc01cf0b 2015-09-14 15:20:00   \n",
              "176010  fdbf4f38-7144-11e5-ba71-058fbc01cf0b 2015-09-23 13:46:00   \n",
              "176011  fdbf4f38-7144-11e5-ba71-058fbc01cf0b 2015-09-23 13:51:00   \n",
              "176012  fdbf4f38-7144-11e5-ba71-058fbc01cf0b 2015-09-23 13:56:00   \n",
              "176013  fdbf4f38-7144-11e5-ba71-058fbc01cf0b 2015-09-23 13:58:00   \n",
              "\n",
              "        Calculated_Rank_by_DogID  Rank_by_DogID  \n",
              "1454                           9            8.0  \n",
              "1455                          10            9.0  \n",
              "1456                          11           10.0  \n",
              "1457                          12           11.0  \n",
              "1458                          13           12.0  \n",
              "...                          ...            ...  \n",
              "175241                         8            7.0  \n",
              "176010                         2            1.0  \n",
              "176011                         3            2.0  \n",
              "176012                         4            3.0  \n",
              "176013                         5            4.0  \n",
              "\n",
              "[8077 rows x 4 columns]"
            ],
            "text/html": [
              "\n",
              "  <div id=\"df-139af8a8-86fa-4325-84a8-7070469ccead\" class=\"colab-df-container\">\n",
              "    <div>\n",
              "<style scoped>\n",
              "    .dataframe tbody tr th:only-of-type {\n",
              "        vertical-align: middle;\n",
              "    }\n",
              "\n",
              "    .dataframe tbody tr th {\n",
              "        vertical-align: top;\n",
              "    }\n",
              "\n",
              "    .dataframe thead th {\n",
              "        text-align: right;\n",
              "    }\n",
              "</style>\n",
              "<table border=\"1\" class=\"dataframe\">\n",
              "  <thead>\n",
              "    <tr style=\"text-align: right;\">\n",
              "      <th></th>\n",
              "      <th>Dog_ID</th>\n",
              "      <th>Created_at</th>\n",
              "      <th>Calculated_Rank_by_DogID</th>\n",
              "      <th>Rank_by_DogID</th>\n",
              "    </tr>\n",
              "  </thead>\n",
              "  <tbody>\n",
              "    <tr>\n",
              "      <th>1454</th>\n",
              "      <td>fd45f778-7144-11e5-ba71-058fbc01cf0b</td>\n",
              "      <td>2013-06-11 23:36:00</td>\n",
              "      <td>9</td>\n",
              "      <td>8.0</td>\n",
              "    </tr>\n",
              "    <tr>\n",
              "      <th>1455</th>\n",
              "      <td>fd45f778-7144-11e5-ba71-058fbc01cf0b</td>\n",
              "      <td>2013-06-11 23:45:00</td>\n",
              "      <td>10</td>\n",
              "      <td>9.0</td>\n",
              "    </tr>\n",
              "    <tr>\n",
              "      <th>1456</th>\n",
              "      <td>fd45f778-7144-11e5-ba71-058fbc01cf0b</td>\n",
              "      <td>2013-06-17 22:31:00</td>\n",
              "      <td>11</td>\n",
              "      <td>10.0</td>\n",
              "    </tr>\n",
              "    <tr>\n",
              "      <th>1457</th>\n",
              "      <td>fd45f778-7144-11e5-ba71-058fbc01cf0b</td>\n",
              "      <td>2013-06-17 22:38:00</td>\n",
              "      <td>12</td>\n",
              "      <td>11.0</td>\n",
              "    </tr>\n",
              "    <tr>\n",
              "      <th>1458</th>\n",
              "      <td>fd45f778-7144-11e5-ba71-058fbc01cf0b</td>\n",
              "      <td>2013-06-17 22:48:00</td>\n",
              "      <td>13</td>\n",
              "      <td>12.0</td>\n",
              "    </tr>\n",
              "    <tr>\n",
              "      <th>...</th>\n",
              "      <td>...</td>\n",
              "      <td>...</td>\n",
              "      <td>...</td>\n",
              "      <td>...</td>\n",
              "    </tr>\n",
              "    <tr>\n",
              "      <th>175241</th>\n",
              "      <td>fdbae308-7144-11e5-ba71-058fbc01cf0b</td>\n",
              "      <td>2015-09-14 15:20:00</td>\n",
              "      <td>8</td>\n",
              "      <td>7.0</td>\n",
              "    </tr>\n",
              "    <tr>\n",
              "      <th>176010</th>\n",
              "      <td>fdbf4f38-7144-11e5-ba71-058fbc01cf0b</td>\n",
              "      <td>2015-09-23 13:46:00</td>\n",
              "      <td>2</td>\n",
              "      <td>1.0</td>\n",
              "    </tr>\n",
              "    <tr>\n",
              "      <th>176011</th>\n",
              "      <td>fdbf4f38-7144-11e5-ba71-058fbc01cf0b</td>\n",
              "      <td>2015-09-23 13:51:00</td>\n",
              "      <td>3</td>\n",
              "      <td>2.0</td>\n",
              "    </tr>\n",
              "    <tr>\n",
              "      <th>176012</th>\n",
              "      <td>fdbf4f38-7144-11e5-ba71-058fbc01cf0b</td>\n",
              "      <td>2015-09-23 13:56:00</td>\n",
              "      <td>4</td>\n",
              "      <td>3.0</td>\n",
              "    </tr>\n",
              "    <tr>\n",
              "      <th>176013</th>\n",
              "      <td>fdbf4f38-7144-11e5-ba71-058fbc01cf0b</td>\n",
              "      <td>2015-09-23 13:58:00</td>\n",
              "      <td>5</td>\n",
              "      <td>4.0</td>\n",
              "    </tr>\n",
              "  </tbody>\n",
              "</table>\n",
              "<p>8077 rows × 4 columns</p>\n",
              "</div>\n",
              "    <div class=\"colab-df-buttons\">\n",
              "\n",
              "  <div class=\"colab-df-container\">\n",
              "    <button class=\"colab-df-convert\" onclick=\"convertToInteractive('df-139af8a8-86fa-4325-84a8-7070469ccead')\"\n",
              "            title=\"Convert this dataframe to an interactive table.\"\n",
              "            style=\"display:none;\">\n",
              "\n",
              "  <svg xmlns=\"http://www.w3.org/2000/svg\" height=\"24px\" viewBox=\"0 -960 960 960\">\n",
              "    <path d=\"M120-120v-720h720v720H120Zm60-500h600v-160H180v160Zm220 220h160v-160H400v160Zm0 220h160v-160H400v160ZM180-400h160v-160H180v160Zm440 0h160v-160H620v160ZM180-180h160v-160H180v160Zm440 0h160v-160H620v160Z\"/>\n",
              "  </svg>\n",
              "    </button>\n",
              "\n",
              "  <style>\n",
              "    .colab-df-container {\n",
              "      display:flex;\n",
              "      gap: 12px;\n",
              "    }\n",
              "\n",
              "    .colab-df-convert {\n",
              "      background-color: #E8F0FE;\n",
              "      border: none;\n",
              "      border-radius: 50%;\n",
              "      cursor: pointer;\n",
              "      display: none;\n",
              "      fill: #1967D2;\n",
              "      height: 32px;\n",
              "      padding: 0 0 0 0;\n",
              "      width: 32px;\n",
              "    }\n",
              "\n",
              "    .colab-df-convert:hover {\n",
              "      background-color: #E2EBFA;\n",
              "      box-shadow: 0px 1px 2px rgba(60, 64, 67, 0.3), 0px 1px 3px 1px rgba(60, 64, 67, 0.15);\n",
              "      fill: #174EA6;\n",
              "    }\n",
              "\n",
              "    .colab-df-buttons div {\n",
              "      margin-bottom: 4px;\n",
              "    }\n",
              "\n",
              "    [theme=dark] .colab-df-convert {\n",
              "      background-color: #3B4455;\n",
              "      fill: #D2E3FC;\n",
              "    }\n",
              "\n",
              "    [theme=dark] .colab-df-convert:hover {\n",
              "      background-color: #434B5C;\n",
              "      box-shadow: 0px 1px 3px 1px rgba(0, 0, 0, 0.15);\n",
              "      filter: drop-shadow(0px 1px 2px rgba(0, 0, 0, 0.3));\n",
              "      fill: #FFFFFF;\n",
              "    }\n",
              "  </style>\n",
              "\n",
              "    <script>\n",
              "      const buttonEl =\n",
              "        document.querySelector('#df-139af8a8-86fa-4325-84a8-7070469ccead button.colab-df-convert');\n",
              "      buttonEl.style.display =\n",
              "        google.colab.kernel.accessAllowed ? 'block' : 'none';\n",
              "\n",
              "      async function convertToInteractive(key) {\n",
              "        const element = document.querySelector('#df-139af8a8-86fa-4325-84a8-7070469ccead');\n",
              "        const dataTable =\n",
              "          await google.colab.kernel.invokeFunction('convertToInteractive',\n",
              "                                                    [key], {});\n",
              "        if (!dataTable) return;\n",
              "\n",
              "        const docLinkHtml = 'Like what you see? Visit the ' +\n",
              "          '<a target=\"_blank\" href=https://colab.research.google.com/notebooks/data_table.ipynb>data table notebook</a>'\n",
              "          + ' to learn more about interactive tables.';\n",
              "        element.innerHTML = '';\n",
              "        dataTable['output_type'] = 'display_data';\n",
              "        await google.colab.output.renderOutput(dataTable, element);\n",
              "        const docLink = document.createElement('div');\n",
              "        docLink.innerHTML = docLinkHtml;\n",
              "        element.appendChild(docLink);\n",
              "      }\n",
              "    </script>\n",
              "  </div>\n",
              "\n",
              "\n",
              "<div id=\"df-e1564c70-1088-4b96-b508-02c4a040a49a\">\n",
              "  <button class=\"colab-df-quickchart\" onclick=\"quickchart('df-e1564c70-1088-4b96-b508-02c4a040a49a')\"\n",
              "            title=\"Suggest charts\"\n",
              "            style=\"display:none;\">\n",
              "\n",
              "<svg xmlns=\"http://www.w3.org/2000/svg\" height=\"24px\"viewBox=\"0 0 24 24\"\n",
              "     width=\"24px\">\n",
              "    <g>\n",
              "        <path d=\"M19 3H5c-1.1 0-2 .9-2 2v14c0 1.1.9 2 2 2h14c1.1 0 2-.9 2-2V5c0-1.1-.9-2-2-2zM9 17H7v-7h2v7zm4 0h-2V7h2v10zm4 0h-2v-4h2v4z\"/>\n",
              "    </g>\n",
              "</svg>\n",
              "  </button>\n",
              "\n",
              "<style>\n",
              "  .colab-df-quickchart {\n",
              "      --bg-color: #E8F0FE;\n",
              "      --fill-color: #1967D2;\n",
              "      --hover-bg-color: #E2EBFA;\n",
              "      --hover-fill-color: #174EA6;\n",
              "      --disabled-fill-color: #AAA;\n",
              "      --disabled-bg-color: #DDD;\n",
              "  }\n",
              "\n",
              "  [theme=dark] .colab-df-quickchart {\n",
              "      --bg-color: #3B4455;\n",
              "      --fill-color: #D2E3FC;\n",
              "      --hover-bg-color: #434B5C;\n",
              "      --hover-fill-color: #FFFFFF;\n",
              "      --disabled-bg-color: #3B4455;\n",
              "      --disabled-fill-color: #666;\n",
              "  }\n",
              "\n",
              "  .colab-df-quickchart {\n",
              "    background-color: var(--bg-color);\n",
              "    border: none;\n",
              "    border-radius: 50%;\n",
              "    cursor: pointer;\n",
              "    display: none;\n",
              "    fill: var(--fill-color);\n",
              "    height: 32px;\n",
              "    padding: 0;\n",
              "    width: 32px;\n",
              "  }\n",
              "\n",
              "  .colab-df-quickchart:hover {\n",
              "    background-color: var(--hover-bg-color);\n",
              "    box-shadow: 0 1px 2px rgba(60, 64, 67, 0.3), 0 1px 3px 1px rgba(60, 64, 67, 0.15);\n",
              "    fill: var(--button-hover-fill-color);\n",
              "  }\n",
              "\n",
              "  .colab-df-quickchart-complete:disabled,\n",
              "  .colab-df-quickchart-complete:disabled:hover {\n",
              "    background-color: var(--disabled-bg-color);\n",
              "    fill: var(--disabled-fill-color);\n",
              "    box-shadow: none;\n",
              "  }\n",
              "\n",
              "  .colab-df-spinner {\n",
              "    border: 2px solid var(--fill-color);\n",
              "    border-color: transparent;\n",
              "    border-bottom-color: var(--fill-color);\n",
              "    animation:\n",
              "      spin 1s steps(1) infinite;\n",
              "  }\n",
              "\n",
              "  @keyframes spin {\n",
              "    0% {\n",
              "      border-color: transparent;\n",
              "      border-bottom-color: var(--fill-color);\n",
              "      border-left-color: var(--fill-color);\n",
              "    }\n",
              "    20% {\n",
              "      border-color: transparent;\n",
              "      border-left-color: var(--fill-color);\n",
              "      border-top-color: var(--fill-color);\n",
              "    }\n",
              "    30% {\n",
              "      border-color: transparent;\n",
              "      border-left-color: var(--fill-color);\n",
              "      border-top-color: var(--fill-color);\n",
              "      border-right-color: var(--fill-color);\n",
              "    }\n",
              "    40% {\n",
              "      border-color: transparent;\n",
              "      border-right-color: var(--fill-color);\n",
              "      border-top-color: var(--fill-color);\n",
              "    }\n",
              "    60% {\n",
              "      border-color: transparent;\n",
              "      border-right-color: var(--fill-color);\n",
              "    }\n",
              "    80% {\n",
              "      border-color: transparent;\n",
              "      border-right-color: var(--fill-color);\n",
              "      border-bottom-color: var(--fill-color);\n",
              "    }\n",
              "    90% {\n",
              "      border-color: transparent;\n",
              "      border-bottom-color: var(--fill-color);\n",
              "    }\n",
              "  }\n",
              "</style>\n",
              "\n",
              "  <script>\n",
              "    async function quickchart(key) {\n",
              "      const quickchartButtonEl =\n",
              "        document.querySelector('#' + key + ' button');\n",
              "      quickchartButtonEl.disabled = true;  // To prevent multiple clicks.\n",
              "      quickchartButtonEl.classList.add('colab-df-spinner');\n",
              "      try {\n",
              "        const charts = await google.colab.kernel.invokeFunction(\n",
              "            'suggestCharts', [key], {});\n",
              "      } catch (error) {\n",
              "        console.error('Error during call to suggestCharts:', error);\n",
              "      }\n",
              "      quickchartButtonEl.classList.remove('colab-df-spinner');\n",
              "      quickchartButtonEl.classList.add('colab-df-quickchart-complete');\n",
              "    }\n",
              "    (() => {\n",
              "      let quickchartButtonEl =\n",
              "        document.querySelector('#df-e1564c70-1088-4b96-b508-02c4a040a49a button');\n",
              "      quickchartButtonEl.style.display =\n",
              "        google.colab.kernel.accessAllowed ? 'block' : 'none';\n",
              "    })();\n",
              "  </script>\n",
              "</div>\n",
              "    </div>\n",
              "  </div>\n"
            ]
          },
          "metadata": {},
          "execution_count": 66
        }
      ]
    },
    {
      "cell_type": "code",
      "source": [
        "discrepancies_by_user = merged_data[merged_data['Calculated_Rank_by_UserID'] != merged_data['Rank_by_UserID']]\n",
        "discrepancies_by_user[['User_ID', 'Created_at', 'Calculated_Rank_by_UserID', 'Rank_by_UserID']]"
      ],
      "metadata": {
        "id": "-2guRdqH8o4Z",
        "outputId": "4c430bf6-026f-4594-ea37-12cf6f926549",
        "colab": {
          "base_uri": "https://localhost:8080/",
          "height": 423
        }
      },
      "id": "-2guRdqH8o4Z",
      "execution_count": 67,
      "outputs": [
        {
          "output_type": "execute_result",
          "data": {
            "text/plain": [
              "                                     User_ID          Created_at  \\\n",
              "1165    ce28be44-7144-11e5-ba71-058fbc01cf0b 2014-07-28 01:17:00   \n",
              "1170    ce28be44-7144-11e5-ba71-058fbc01cf0b 2014-07-28 01:17:00   \n",
              "1454    ce28d6e0-7144-11e5-ba71-058fbc01cf0b 2013-06-11 23:36:00   \n",
              "1455    ce28d6e0-7144-11e5-ba71-058fbc01cf0b 2013-06-11 23:45:00   \n",
              "1456    ce28d6e0-7144-11e5-ba71-058fbc01cf0b 2013-06-17 22:31:00   \n",
              "...                                      ...                 ...   \n",
              "175241  ce95ca8e-7144-11e5-ba71-058fbc01cf0b 2015-09-14 15:20:00   \n",
              "176010  ce988a08-7144-11e5-ba71-058fbc01cf0b 2015-09-23 13:46:00   \n",
              "176011  ce988a08-7144-11e5-ba71-058fbc01cf0b 2015-09-23 13:51:00   \n",
              "176012  ce988a08-7144-11e5-ba71-058fbc01cf0b 2015-09-23 13:56:00   \n",
              "176013  ce988a08-7144-11e5-ba71-058fbc01cf0b 2015-09-23 13:58:00   \n",
              "\n",
              "        Calculated_Rank_by_UserID  Rank_by_UserID  \n",
              "1165                            3             4.0  \n",
              "1170                            4             3.0  \n",
              "1454                            9             8.0  \n",
              "1455                           10             9.0  \n",
              "1456                           11            10.0  \n",
              "...                           ...             ...  \n",
              "175241                          8             7.0  \n",
              "176010                          2             1.0  \n",
              "176011                          3             2.0  \n",
              "176012                          4             3.0  \n",
              "176013                          5             4.0  \n",
              "\n",
              "[10009 rows x 4 columns]"
            ],
            "text/html": [
              "\n",
              "  <div id=\"df-0676e75b-b0f5-4e91-88b6-0b79a0dac392\" class=\"colab-df-container\">\n",
              "    <div>\n",
              "<style scoped>\n",
              "    .dataframe tbody tr th:only-of-type {\n",
              "        vertical-align: middle;\n",
              "    }\n",
              "\n",
              "    .dataframe tbody tr th {\n",
              "        vertical-align: top;\n",
              "    }\n",
              "\n",
              "    .dataframe thead th {\n",
              "        text-align: right;\n",
              "    }\n",
              "</style>\n",
              "<table border=\"1\" class=\"dataframe\">\n",
              "  <thead>\n",
              "    <tr style=\"text-align: right;\">\n",
              "      <th></th>\n",
              "      <th>User_ID</th>\n",
              "      <th>Created_at</th>\n",
              "      <th>Calculated_Rank_by_UserID</th>\n",
              "      <th>Rank_by_UserID</th>\n",
              "    </tr>\n",
              "  </thead>\n",
              "  <tbody>\n",
              "    <tr>\n",
              "      <th>1165</th>\n",
              "      <td>ce28be44-7144-11e5-ba71-058fbc01cf0b</td>\n",
              "      <td>2014-07-28 01:17:00</td>\n",
              "      <td>3</td>\n",
              "      <td>4.0</td>\n",
              "    </tr>\n",
              "    <tr>\n",
              "      <th>1170</th>\n",
              "      <td>ce28be44-7144-11e5-ba71-058fbc01cf0b</td>\n",
              "      <td>2014-07-28 01:17:00</td>\n",
              "      <td>4</td>\n",
              "      <td>3.0</td>\n",
              "    </tr>\n",
              "    <tr>\n",
              "      <th>1454</th>\n",
              "      <td>ce28d6e0-7144-11e5-ba71-058fbc01cf0b</td>\n",
              "      <td>2013-06-11 23:36:00</td>\n",
              "      <td>9</td>\n",
              "      <td>8.0</td>\n",
              "    </tr>\n",
              "    <tr>\n",
              "      <th>1455</th>\n",
              "      <td>ce28d6e0-7144-11e5-ba71-058fbc01cf0b</td>\n",
              "      <td>2013-06-11 23:45:00</td>\n",
              "      <td>10</td>\n",
              "      <td>9.0</td>\n",
              "    </tr>\n",
              "    <tr>\n",
              "      <th>1456</th>\n",
              "      <td>ce28d6e0-7144-11e5-ba71-058fbc01cf0b</td>\n",
              "      <td>2013-06-17 22:31:00</td>\n",
              "      <td>11</td>\n",
              "      <td>10.0</td>\n",
              "    </tr>\n",
              "    <tr>\n",
              "      <th>...</th>\n",
              "      <td>...</td>\n",
              "      <td>...</td>\n",
              "      <td>...</td>\n",
              "      <td>...</td>\n",
              "    </tr>\n",
              "    <tr>\n",
              "      <th>175241</th>\n",
              "      <td>ce95ca8e-7144-11e5-ba71-058fbc01cf0b</td>\n",
              "      <td>2015-09-14 15:20:00</td>\n",
              "      <td>8</td>\n",
              "      <td>7.0</td>\n",
              "    </tr>\n",
              "    <tr>\n",
              "      <th>176010</th>\n",
              "      <td>ce988a08-7144-11e5-ba71-058fbc01cf0b</td>\n",
              "      <td>2015-09-23 13:46:00</td>\n",
              "      <td>2</td>\n",
              "      <td>1.0</td>\n",
              "    </tr>\n",
              "    <tr>\n",
              "      <th>176011</th>\n",
              "      <td>ce988a08-7144-11e5-ba71-058fbc01cf0b</td>\n",
              "      <td>2015-09-23 13:51:00</td>\n",
              "      <td>3</td>\n",
              "      <td>2.0</td>\n",
              "    </tr>\n",
              "    <tr>\n",
              "      <th>176012</th>\n",
              "      <td>ce988a08-7144-11e5-ba71-058fbc01cf0b</td>\n",
              "      <td>2015-09-23 13:56:00</td>\n",
              "      <td>4</td>\n",
              "      <td>3.0</td>\n",
              "    </tr>\n",
              "    <tr>\n",
              "      <th>176013</th>\n",
              "      <td>ce988a08-7144-11e5-ba71-058fbc01cf0b</td>\n",
              "      <td>2015-09-23 13:58:00</td>\n",
              "      <td>5</td>\n",
              "      <td>4.0</td>\n",
              "    </tr>\n",
              "  </tbody>\n",
              "</table>\n",
              "<p>10009 rows × 4 columns</p>\n",
              "</div>\n",
              "    <div class=\"colab-df-buttons\">\n",
              "\n",
              "  <div class=\"colab-df-container\">\n",
              "    <button class=\"colab-df-convert\" onclick=\"convertToInteractive('df-0676e75b-b0f5-4e91-88b6-0b79a0dac392')\"\n",
              "            title=\"Convert this dataframe to an interactive table.\"\n",
              "            style=\"display:none;\">\n",
              "\n",
              "  <svg xmlns=\"http://www.w3.org/2000/svg\" height=\"24px\" viewBox=\"0 -960 960 960\">\n",
              "    <path d=\"M120-120v-720h720v720H120Zm60-500h600v-160H180v160Zm220 220h160v-160H400v160Zm0 220h160v-160H400v160ZM180-400h160v-160H180v160Zm440 0h160v-160H620v160ZM180-180h160v-160H180v160Zm440 0h160v-160H620v160Z\"/>\n",
              "  </svg>\n",
              "    </button>\n",
              "\n",
              "  <style>\n",
              "    .colab-df-container {\n",
              "      display:flex;\n",
              "      gap: 12px;\n",
              "    }\n",
              "\n",
              "    .colab-df-convert {\n",
              "      background-color: #E8F0FE;\n",
              "      border: none;\n",
              "      border-radius: 50%;\n",
              "      cursor: pointer;\n",
              "      display: none;\n",
              "      fill: #1967D2;\n",
              "      height: 32px;\n",
              "      padding: 0 0 0 0;\n",
              "      width: 32px;\n",
              "    }\n",
              "\n",
              "    .colab-df-convert:hover {\n",
              "      background-color: #E2EBFA;\n",
              "      box-shadow: 0px 1px 2px rgba(60, 64, 67, 0.3), 0px 1px 3px 1px rgba(60, 64, 67, 0.15);\n",
              "      fill: #174EA6;\n",
              "    }\n",
              "\n",
              "    .colab-df-buttons div {\n",
              "      margin-bottom: 4px;\n",
              "    }\n",
              "\n",
              "    [theme=dark] .colab-df-convert {\n",
              "      background-color: #3B4455;\n",
              "      fill: #D2E3FC;\n",
              "    }\n",
              "\n",
              "    [theme=dark] .colab-df-convert:hover {\n",
              "      background-color: #434B5C;\n",
              "      box-shadow: 0px 1px 3px 1px rgba(0, 0, 0, 0.15);\n",
              "      filter: drop-shadow(0px 1px 2px rgba(0, 0, 0, 0.3));\n",
              "      fill: #FFFFFF;\n",
              "    }\n",
              "  </style>\n",
              "\n",
              "    <script>\n",
              "      const buttonEl =\n",
              "        document.querySelector('#df-0676e75b-b0f5-4e91-88b6-0b79a0dac392 button.colab-df-convert');\n",
              "      buttonEl.style.display =\n",
              "        google.colab.kernel.accessAllowed ? 'block' : 'none';\n",
              "\n",
              "      async function convertToInteractive(key) {\n",
              "        const element = document.querySelector('#df-0676e75b-b0f5-4e91-88b6-0b79a0dac392');\n",
              "        const dataTable =\n",
              "          await google.colab.kernel.invokeFunction('convertToInteractive',\n",
              "                                                    [key], {});\n",
              "        if (!dataTable) return;\n",
              "\n",
              "        const docLinkHtml = 'Like what you see? Visit the ' +\n",
              "          '<a target=\"_blank\" href=https://colab.research.google.com/notebooks/data_table.ipynb>data table notebook</a>'\n",
              "          + ' to learn more about interactive tables.';\n",
              "        element.innerHTML = '';\n",
              "        dataTable['output_type'] = 'display_data';\n",
              "        await google.colab.output.renderOutput(dataTable, element);\n",
              "        const docLink = document.createElement('div');\n",
              "        docLink.innerHTML = docLinkHtml;\n",
              "        element.appendChild(docLink);\n",
              "      }\n",
              "    </script>\n",
              "  </div>\n",
              "\n",
              "\n",
              "<div id=\"df-3d2bdb8c-bf52-4311-9de1-3cc0fa4edef4\">\n",
              "  <button class=\"colab-df-quickchart\" onclick=\"quickchart('df-3d2bdb8c-bf52-4311-9de1-3cc0fa4edef4')\"\n",
              "            title=\"Suggest charts\"\n",
              "            style=\"display:none;\">\n",
              "\n",
              "<svg xmlns=\"http://www.w3.org/2000/svg\" height=\"24px\"viewBox=\"0 0 24 24\"\n",
              "     width=\"24px\">\n",
              "    <g>\n",
              "        <path d=\"M19 3H5c-1.1 0-2 .9-2 2v14c0 1.1.9 2 2 2h14c1.1 0 2-.9 2-2V5c0-1.1-.9-2-2-2zM9 17H7v-7h2v7zm4 0h-2V7h2v10zm4 0h-2v-4h2v4z\"/>\n",
              "    </g>\n",
              "</svg>\n",
              "  </button>\n",
              "\n",
              "<style>\n",
              "  .colab-df-quickchart {\n",
              "      --bg-color: #E8F0FE;\n",
              "      --fill-color: #1967D2;\n",
              "      --hover-bg-color: #E2EBFA;\n",
              "      --hover-fill-color: #174EA6;\n",
              "      --disabled-fill-color: #AAA;\n",
              "      --disabled-bg-color: #DDD;\n",
              "  }\n",
              "\n",
              "  [theme=dark] .colab-df-quickchart {\n",
              "      --bg-color: #3B4455;\n",
              "      --fill-color: #D2E3FC;\n",
              "      --hover-bg-color: #434B5C;\n",
              "      --hover-fill-color: #FFFFFF;\n",
              "      --disabled-bg-color: #3B4455;\n",
              "      --disabled-fill-color: #666;\n",
              "  }\n",
              "\n",
              "  .colab-df-quickchart {\n",
              "    background-color: var(--bg-color);\n",
              "    border: none;\n",
              "    border-radius: 50%;\n",
              "    cursor: pointer;\n",
              "    display: none;\n",
              "    fill: var(--fill-color);\n",
              "    height: 32px;\n",
              "    padding: 0;\n",
              "    width: 32px;\n",
              "  }\n",
              "\n",
              "  .colab-df-quickchart:hover {\n",
              "    background-color: var(--hover-bg-color);\n",
              "    box-shadow: 0 1px 2px rgba(60, 64, 67, 0.3), 0 1px 3px 1px rgba(60, 64, 67, 0.15);\n",
              "    fill: var(--button-hover-fill-color);\n",
              "  }\n",
              "\n",
              "  .colab-df-quickchart-complete:disabled,\n",
              "  .colab-df-quickchart-complete:disabled:hover {\n",
              "    background-color: var(--disabled-bg-color);\n",
              "    fill: var(--disabled-fill-color);\n",
              "    box-shadow: none;\n",
              "  }\n",
              "\n",
              "  .colab-df-spinner {\n",
              "    border: 2px solid var(--fill-color);\n",
              "    border-color: transparent;\n",
              "    border-bottom-color: var(--fill-color);\n",
              "    animation:\n",
              "      spin 1s steps(1) infinite;\n",
              "  }\n",
              "\n",
              "  @keyframes spin {\n",
              "    0% {\n",
              "      border-color: transparent;\n",
              "      border-bottom-color: var(--fill-color);\n",
              "      border-left-color: var(--fill-color);\n",
              "    }\n",
              "    20% {\n",
              "      border-color: transparent;\n",
              "      border-left-color: var(--fill-color);\n",
              "      border-top-color: var(--fill-color);\n",
              "    }\n",
              "    30% {\n",
              "      border-color: transparent;\n",
              "      border-left-color: var(--fill-color);\n",
              "      border-top-color: var(--fill-color);\n",
              "      border-right-color: var(--fill-color);\n",
              "    }\n",
              "    40% {\n",
              "      border-color: transparent;\n",
              "      border-right-color: var(--fill-color);\n",
              "      border-top-color: var(--fill-color);\n",
              "    }\n",
              "    60% {\n",
              "      border-color: transparent;\n",
              "      border-right-color: var(--fill-color);\n",
              "    }\n",
              "    80% {\n",
              "      border-color: transparent;\n",
              "      border-right-color: var(--fill-color);\n",
              "      border-bottom-color: var(--fill-color);\n",
              "    }\n",
              "    90% {\n",
              "      border-color: transparent;\n",
              "      border-bottom-color: var(--fill-color);\n",
              "    }\n",
              "  }\n",
              "</style>\n",
              "\n",
              "  <script>\n",
              "    async function quickchart(key) {\n",
              "      const quickchartButtonEl =\n",
              "        document.querySelector('#' + key + ' button');\n",
              "      quickchartButtonEl.disabled = true;  // To prevent multiple clicks.\n",
              "      quickchartButtonEl.classList.add('colab-df-spinner');\n",
              "      try {\n",
              "        const charts = await google.colab.kernel.invokeFunction(\n",
              "            'suggestCharts', [key], {});\n",
              "      } catch (error) {\n",
              "        console.error('Error during call to suggestCharts:', error);\n",
              "      }\n",
              "      quickchartButtonEl.classList.remove('colab-df-spinner');\n",
              "      quickchartButtonEl.classList.add('colab-df-quickchart-complete');\n",
              "    }\n",
              "    (() => {\n",
              "      let quickchartButtonEl =\n",
              "        document.querySelector('#df-3d2bdb8c-bf52-4311-9de1-3cc0fa4edef4 button');\n",
              "      quickchartButtonEl.style.display =\n",
              "        google.colab.kernel.accessAllowed ? 'block' : 'none';\n",
              "    })();\n",
              "  </script>\n",
              "</div>\n",
              "    </div>\n",
              "  </div>\n"
            ]
          },
          "metadata": {},
          "execution_count": 67
        }
      ]
    },
    {
      "cell_type": "markdown",
      "source": [
        "## Step 4: Analyze and Interpret the Results\n",
        "- **Objective:** Understand the ranking distribution and any discrepancies."
      ],
      "metadata": {
        "id": "8cbKvztx7QBI"
      },
      "id": "8cbKvztx7QBI"
    },
    {
      "cell_type": "code",
      "source": [
        "# Code to calculate the differences between the calculated ranks and the provided ranks\n",
        "merged_data['Rank_by_DogID_Difference'] = merged_data['Calculated_Rank_by_DogID'] - merged_data['Rank_by_DogID']\n",
        "merged_data['Rank_by_UserID_Difference'] = merged_data['Calculated_Rank_by_UserID'] - merged_data['Rank_by_UserID']\n",
        "\n",
        "# Summarize the number of discrepancies\n",
        "num_discrepancies_by_dog = merged_data[merged_data['Rank_by_DogID_Difference'] != 0].shape[0]\n",
        "num_discrepancies_by_user = merged_data[merged_data['Rank_by_UserID_Difference'] != 0].shape[0]\n",
        "\n",
        "# Assess the magnitude of discrepancies\n",
        "avg_discrepancy_by_dog = merged_data['Rank_by_DogID_Difference'].abs().mean()\n",
        "avg_discrepancy_by_user = merged_data['Rank_by_UserID_Difference'].abs().mean()\n",
        "\n",
        "print(f\"Number of discrepancies in Rank by DogID: {num_discrepancies_by_dog}\")\n",
        "print(f\"Average discrepancy in Rank by DogID: {avg_discrepancy_by_dog}\")\n",
        "print(f\"Number of discrepancies in Rank by UserID: {num_discrepancies_by_user}\")\n",
        "print(f\"Average discrepancy in Rank by UserID: {avg_discrepancy_by_user}\")\n"
      ],
      "metadata": {
        "id": "Szci3cQN9dUD",
        "outputId": "028d3e4b-62e5-442f-c586-cb61cfc587a5",
        "colab": {
          "base_uri": "https://localhost:8080/"
        }
      },
      "id": "Szci3cQN9dUD",
      "execution_count": 69,
      "outputs": [
        {
          "output_type": "stream",
          "name": "stdout",
          "text": [
            "Number of discrepancies in Rank by DogID: 8077\n",
            "Average discrepancy in Rank by DogID: 0.06292896483547522\n",
            "Number of discrepancies in Rank by UserID: 10009\n",
            "Average discrepancy in Rank by UserID: 0.09063126677023019\n"
          ]
        }
      ]
    },
    {
      "cell_type": "markdown",
      "source": [
        "\n",
        "#### Discrepancy Summary:\n",
        "- **Rank by DogID:**\n",
        "  - Number of discrepancies: 8,077\n",
        "  - Average discrepancy magnitude: ~0.063 ranks\n",
        "- **Rank by UserID:**\n",
        "  - Number of discrepancies: 10,009\n",
        "  - Average discrepancy magnitude: ~0.091 ranks\n",
        "\n",
        "#### Analysis:\n",
        "- **Presence of Discrepancies:** A certain number of discrepancies in ranking indicate that the calculated ranks do not always match the ranks provided in the dataset. However, the average magnitude of these discrepancies is less than one rank. This suggests that while there are differences, they are not typically large.\n",
        "- **Potential Causes:** The discrepancies could be due to several reasons, such as:\n",
        "  - Slight variations in the time recorded for the 'Created_at' timestamp, especially if multiple tests were completed in quick succession.\n",
        "  - The presence of ties in the test completion times that were resolved differently in the provided ranks versus the calculated ranks.\n",
        "  - Data entry errors or updates to the data after the initial ranks were assigned.\n",
        "\n",
        "#### Implications:\n",
        "- **Data Integrity:** The small average discrepancy suggests that the data is relatively consistent, but the discrepancies need to be understood and addressed to ensure data integrity.\n",
        "- **Further Investigation:** It would be beneficial to investigate the specific cases of discrepancy to determine their cause. This might involve looking at the data entry processes or the criteria used for the initial rank assignments.\n",
        "\n",
        "#### Conclusion:\n",
        "The relatively small magnitude of discrepancies does not point to a systemic issue with the data. However, the number of discrepancies suggests that a review of the ranking process might be beneficial to ensure its consistency and accuracy. For Dognition, understanding these discrepancies is important to maintain the integrity of the user progression and testing sequence, as these ranks could potentially impact user experience and the perceived difficulty of tests.\n",
        "\n",
        "Before taking any action based on these findings, it would be prudent to examine a sample of the discrepant records to understand their nature fully. If the discrepancies follow a pattern or are concentrated in certain areas, it could indicate a specific issue that needs addressing."
      ],
      "metadata": {
        "id": "hLY_9y4Z-IvQ"
      },
      "id": "hLY_9y4Z-IvQ"
    }
  ],
  "metadata": {
    "colab": {
      "provenance": [],
      "toc_visible": true
    },
    "language_info": {
      "name": "python"
    },
    "kernelspec": {
      "name": "python3",
      "display_name": "Python 3"
    }
  },
  "nbformat": 4,
  "nbformat_minor": 5
}