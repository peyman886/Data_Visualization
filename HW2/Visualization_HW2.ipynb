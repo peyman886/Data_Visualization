{
  "nbformat": 4,
  "nbformat_minor": 0,
  "metadata": {
    "colab": {
      "provenance": []
    },
    "kernelspec": {
      "name": "python3",
      "display_name": "Python 3"
    },
    "language_info": {
      "name": "python"
    }
  },
  "cells": [
    {
      "cell_type": "markdown",
      "source": [
        "# **Question 1**"
      ],
      "metadata": {
        "id": "qK7nue7KWnJ6"
      }
    },
    {
      "cell_type": "markdown",
      "source": [
        "1. **Proximity**: Objects that are near each other tend to be grouped together. In this figure, the numbers associated with each growth type (e.g., \"# of Accounts,\" \"Gain Share Opportunity,\" and \"Keep Share Opportunity\") are placed close to their corresponding labels, which helps the viewer understand that they are related.\n",
        "\n",
        "2. **Similarity**: Elements that are similar tend to be perceived as part of the same group. Here, the use of color coding (e.g., the purple and blue bars) suggests a relationship between the categories \"Stable\" and \"Dropping\" compared to others.\n",
        "\n",
        "3. **Enclosure**: When boundaries are drawn around elements, it's likely that viewers will perceive them as part of a group. The figure uses shading to enclose the \"Stable\" and \"Dropping\" rows, grouping them together and distinguishing them from the rest.\n",
        "\n",
        "4. **Closure**: People often perceive complete shapes even when parts of them are missing. Although not strongly utilized in this figure, the concept of closure is subtly present in how the viewer understands the shaded area as a cohesive unit despite it being interrupted by the text and background.\n",
        "\n",
        "5. **Continuity**: Lines and patterns tend to be perceived as continuing in their established direction. In this figure, the lines that separate the rows and columns create a clear path for the eye to follow, aiding in data readability.\n",
        "\n",
        "6. **Connection**: Elements that are connected by uniform visual properties, such as shape or color, are perceived as more related than elements that are not connected. The connecting lines to the totals and the large percentage figures emphasize the relationship between these data points."
      ],
      "metadata": {
        "id": "31k7lZHQWY94"
      }
    },
    {
      "cell_type": "markdown",
      "source": [
        "# **Question 2**"
      ],
      "metadata": {
        "id": "T0LZwWLHWs-K"
      }
    },
    {
      "cell_type": "code",
      "execution_count": null,
      "metadata": {
        "id": "P377W_jwV9_7"
      },
      "outputs": [],
      "source": []
    }
  ]
}